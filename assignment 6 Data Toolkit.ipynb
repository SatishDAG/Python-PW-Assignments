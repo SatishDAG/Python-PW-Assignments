{
 "cells": [
  {
   "cell_type": "markdown",
   "metadata": {},
   "source": [
    "\n",
    "# Data Toolkit Assignment - Complete\n",
    "\n",
    "This assignment covers NumPy, Pandas, Matplotlib, Seaborn, and Plotly with both theoretical explanations and practical coding examples."
   ]
  },
  {
   "cell_type": "code",
   "execution_count": 4,
   "metadata": {},
   "outputs": [
    {
     "name": "stderr",
     "output_type": "stream",
     "text": [
      "Matplotlib is building the font cache; this may take a moment.\n"
     ]
    },
    {
     "name": "stdout",
     "output_type": "stream",
     "text": [
      "All libraries imported successfully!\n"
     ]
    }
   ],
   "source": [
    "# Import all required libraries\n",
    "import numpy as np\n",
    "import pandas as pd\n",
    "import matplotlib.pyplot as plt\n",
    "import seaborn as sns\n",
    "import plotly.graph_objects as go\n",
    "import plotly.express as px\n",
    "import warnings\n",
    "warnings.filterwarnings('ignore')\n",
    "\n",
    "print(\"All libraries imported successfully!\")"
   ]
  },
  {
   "cell_type": "markdown",
   "metadata": {},
   "source": [
    "---\n",
    "## Theory Questions (22 Questions)"
   ]
  },
  {
   "cell_type": "markdown",
   "metadata": {},
   "source": [
    "### Q1. What is NumPy, and why is it widely used in Python?\n",
    "\n",
    "**NumPy (Numerical Python)** is a fundamental library for scientific computing in Python.\n",
    "\n",
    "**Key Features:**\n",
    "- High-performance multidimensional array objects (ndarray)\n",
    "- Broadcasting functions for efficient array operations\n",
    "- Tools for integrating with C/C++ and Fortran code\n",
    "- Linear algebra, Fourier transform, and random number capabilities\n",
    "\n",
    "**Why widely used:**\n",
    "- **Performance**: Written in C, much faster than pure Python\n",
    "- **Memory efficiency**: Arrays consume less memory than Python lists\n",
    "- **Vectorization**: Operations on entire arrays without explicit loops\n",
    "- **Foundation**: Base for other libraries like Pandas, Matplotlib, Scikit-learn"
   ]
  },
  {
   "cell_type": "markdown",
   "metadata": {},
   "source": [
    "### Q2. How does broadcasting work in NumPy?\n",
    "\n",
    "**Broadcasting** allows NumPy to perform operations on arrays with different shapes without explicitly reshaping them.\n",
    "\n",
    "**Rules:**\n",
    "1. Arrays are aligned from the trailing dimension\n",
    "2. Dimensions of size 1 are stretched to match the other array\n",
    "3. If dimensions don't match and neither is 1, an error occurs\n",
    "\n",
    "**Example:**\n",
    "- (3,4) array + (4,) array → (3,4) result\n",
    "- The (4,) array is broadcast across rows"
   ]
  },
  {
   "cell_type": "markdown",
   "metadata": {},
   "source": [
    "### Q3. What is a Pandas DataFrame?\n",
    "\n",
    "A **DataFrame** is a 2-dimensional labeled data structure in Pandas, similar to a spreadsheet or SQL table.\n",
    "\n",
    "**Characteristics:**\n",
    "- **Columns**: Can hold different data types (int, float, string, etc.)\n",
    "- **Index**: Row labels for data identification\n",
    "- **Size Mutable**: Columns can be inserted/deleted\n",
    "- **Heterogeneous**: Different columns can have different data types"
   ]
  },
  {
   "cell_type": "markdown",
   "metadata": {},
   "source": [
    "### Q4. Explain the use of the groupby() method in Pandas\n",
    "\n",
    "The **groupby()** method is used to split data into groups based on one or more criteria, then apply a function to each group.\n",
    "\n",
    "**Process (Split-Apply-Combine):**\n",
    "1. **Split**: Divide data into groups based on criteria\n",
    "2. **Apply**: Perform operation on each group\n",
    "3. **Combine**: Merge results back together\n",
    "\n",
    "**Common uses:**\n",
    "- Aggregation (sum, mean, count)\n",
    "- Transformation (standardization within groups)\n",
    "- Filtration (filter groups based on conditions)"
   ]
  },
  {
   "cell_type": "markdown",
   "metadata": {},
   "source": [
    "### Q5. Why is Seaborn preferred for statistical visualizations?\n",
    "\n",
    "**Seaborn** is built on top of Matplotlib and provides:\n",
    "\n",
    "**Advantages:**\n",
    "- **Statistical focus**: Built-in statistical plotting functions\n",
    "- **Beautiful defaults**: Attractive color palettes and themes\n",
    "- **High-level interface**: Less code for complex plots\n",
    "- **DataFrame integration**: Works seamlessly with Pandas\n",
    "- **Statistical functions**: Automatic regression lines, confidence intervals"
   ]
  },
  {
   "cell_type": "markdown",
   "metadata": {},
   "source": [
    "### Q6. What are the differences between NumPy arrays and Python lists?\n",
    "\n",
    "| Feature | NumPy Arrays | Python Lists |\n",
    "|---------|-------------|-------------|\n",
    "| **Data Type** | Homogeneous (same type) | Heterogeneous (mixed types) |\n",
    "| **Performance** | Fast (C implementation) | Slower (Python objects) |\n",
    "| **Memory** | Less memory usage | More memory overhead |\n",
    "| **Operations** | Vectorized operations | Element-wise loops needed |\n",
    "| **Mathematical** | Built-in math functions | Requires loops or map() |\n",
    "| **Size** | Fixed size | Dynamic size |\n",
    "| **Dimensions** | Multi-dimensional | 1-dimensional (nested for multi-d) |"
   ]
  },
  {
   "cell_type": "markdown",
   "metadata": {},
   "source": [
    "### Q7. What is a heatmap, and when should it be used?\n",
    "\n",
    "A **heatmap** is a data visualization technique that represents data through colors in a 2D matrix format.\n",
    "\n",
    "**When to use:**\n",
    "- **Correlation matrices**: Show relationships between variables\n",
    "- **Time series data**: Pattern identification over time\n",
    "- **Geographic data**: Regional comparisons\n",
    "- **Confusion matrices**: Classification model evaluation\n",
    "- **Large datasets**: Quick pattern identification\n",
    "\n",
    "**Benefits:**\n",
    "- Quick visual pattern recognition\n",
    "- Easy to spot outliers\n",
    "- Effective for large datasets"
   ]
  },
  {
   "cell_type": "markdown",
   "metadata": {},
   "source": [
    "### Q8. What does the term \"vectorized operation\" mean in NumPy?\n",
    "\n",
    "**Vectorized operations** apply functions to entire arrays without explicit Python loops.\n",
    "\n",
    "**Benefits:**\n",
    "- **Speed**: Operations executed in optimized C code\n",
    "- **Conciseness**: Less code required\n",
    "- **Readability**: More intuitive mathematical notation"
   ]
  },
  {
   "cell_type": "markdown",
   "metadata": {},
   "source": [
    "### Q9. How does Matplotlib differ from Plotly?\n",
    "\n",
    "| Feature | Matplotlib | Plotly |\n",
    "|---------|------------|--------|\n",
    "| **Type** | Static plots | Interactive plots |\n",
    "| **Output** | Images (PNG, PDF) | HTML, online sharing |\n",
    "| **Customization** | Extensive, low-level | High-level, templates |\n",
    "| **Learning Curve** | Steeper | Gentler |\n",
    "| **Web Integration** | Limited | Excellent |\n",
    "| **Performance** | Fast for static | Good for interactive |"
   ]
  },
  {
   "cell_type": "markdown",
   "metadata": {},
   "source": [
    "### Q10. What is the significance of hierarchical indexing in Pandas?\n",
    "\n",
    "**Hierarchical indexing (MultiIndex)** allows multiple levels of indexing on axes.\n",
    "\n",
    "**Benefits:**\n",
    "- **Higher-dimensional data**: Work with 3D+ data in 2D structure\n",
    "- **Grouping**: Natural data organization\n",
    "- **Efficiency**: Better than separate DataFrames\n",
    "- **Flexibility**: Easy reshaping and pivoting"
   ]
  },
  {
   "cell_type": "markdown",
   "metadata": {},
   "source": [
    "### Q11. What is the role of Seaborn's pairplot() function?\n",
    "\n",
    "**pairplot()** creates a matrix of scatter plots for exploring relationships between multiple variables.\n",
    "\n",
    "**Features:**\n",
    "- **Diagonal**: Distribution plots (histograms/KDE)\n",
    "- **Off-diagonal**: Scatter plots between variable pairs\n",
    "- **Color coding**: By categorical variables\n",
    "- **Quick EDA**: Rapid exploratory data analysis"
   ]
  },
  {
   "cell_type": "markdown",
   "metadata": {},
   "source": [
    "### Q12. What is the purpose of the describe() function in Pandas?\n",
    "\n",
    "**describe()** generates descriptive statistics for DataFrame columns.\n",
    "\n",
    "**For numerical data:**\n",
    "- Count, mean, std, min, 25%, 50%, 75%, max\n",
    "\n",
    "**For categorical data:**\n",
    "- Count, unique, top (most frequent), freq\n",
    "\n",
    "**Benefits:**\n",
    "- Quick data overview\n",
    "- Identify outliers\n",
    "- Check data distribution\n",
    "- Quality assessment"
   ]
  },
  {
   "cell_type": "markdown",
   "metadata": {},
   "source": [
    "### Q13. Why is handling missing data important in Pandas?\n",
    "\n",
    "**Missing data** can significantly impact analysis and model performance.\n",
    "\n",
    "**Problems with missing data:**\n",
    "- **Biased results**: Incomplete information\n",
    "- **Reduced power**: Smaller effective sample size\n",
    "- **Algorithm failures**: Many algorithms can't handle NaN\n",
    "- **Incorrect conclusions**: Misleading statistics\n",
    "\n",
    "**Pandas solutions:**\n",
    "- **Detection**: `isnull()`, `notnull()`, `info()`\n",
    "- **Removal**: `dropna()`\n",
    "- **Imputation**: `fillna()`, interpolation"
   ]
  },
  {
   "cell_type": "markdown",
   "metadata": {},
   "source": [
    "### Q14. What are the benefits of using Plotly for data visualization?\n",
    "\n",
    "**Plotly benefits:**\n",
    "- **Interactivity**: Zoom, pan, hover, select\n",
    "- **Web-ready**: HTML output, easy sharing\n",
    "- **Cross-platform**: Python, R, JavaScript\n",
    "- **3D visualization**: Advanced 3D plotting\n",
    "- **Animation**: Built-in animation support\n",
    "- **Dashboards**: Integration with Dash\n",
    "- **Professional**: Publication-quality plots\n",
    "- **Online platform**: Plotly cloud service"
   ]
  },
  {
   "cell_type": "markdown",
   "metadata": {},
   "source": [
    "### Q15. How does NumPy handle multidimensional arrays?\n",
    "\n",
    "**NumPy's ndarray** supports arbitrary dimensional arrays:\n",
    "\n",
    "**Key concepts:**\n",
    "- **Shape**: Tuple describing dimensions\n",
    "- **Axes**: Each dimension is an axis\n",
    "- **Indexing**: Access elements using coordinates\n",
    "- **Broadcasting**: Operations across dimensions\n",
    "- **Reshaping**: Change array shape without copying data\n",
    "\n",
    "**Memory layout:**\n",
    "- Contiguous memory allocation\n",
    "- Row-major (C-style) or column-major (Fortran-style)"
   ]
  },
  {
   "cell_type": "markdown",
   "metadata": {},
   "source": [
    "### Q16. What is the role of Bokeh in data visualization?\n",
    "\n",
    "**Bokeh** creates interactive web-based visualizations.\n",
    "\n",
    "**Key features:**\n",
    "- **Interactive plots**: Built-in tools and widgets\n",
    "- **Large datasets**: Efficient handling of big data\n",
    "- **Web applications**: Server applications with Bokeh server\n",
    "- **Modern browsers**: No plugins required\n",
    "- **Streaming**: Real-time data visualization\n",
    "- **Layouts**: Complex dashboard layouts"
   ]
  },
  {
   "cell_type": "markdown",
   "metadata": {},
   "source": [
    "### Q17. Explain the difference between apply() and map() in Pandas\n",
    "\n",
    "| Feature | apply() | map() |\n",
    "|---------|---------|-------|\n",
    "| **Scope** | DataFrames and Series | Series only |\n",
    "| **Input** | Functions, strings | Functions, dictionaries, Series |\n",
    "| **Flexibility** | More flexible | More specialized |\n",
    "| **Performance** | Slower for simple mapping | Faster for value mapping |\n",
    "| **Use case** | Complex operations | Value replacement/mapping |"
   ]
  },
  {
   "cell_type": "markdown",
   "metadata": {},
   "source": [
    "### Q18. What are some advanced features of NumPy?\n",
    "\n",
    "**Advanced NumPy features:**\n",
    "- **Universal functions (ufuncs)**: Vectorized functions\n",
    "- **Fancy indexing**: Array indexing with arrays\n",
    "- **Broadcasting**: Advanced array operations\n",
    "- **Structured arrays**: Arrays with named fields\n",
    "- **Memory mapping**: Work with large files\n",
    "- **Linear algebra**: BLAS/LAPACK integration\n",
    "- **FFT**: Fast Fourier Transforms\n",
    "- **Random number generation**: Sophisticated random sampling"
   ]
  },
  {
   "cell_type": "markdown",
   "metadata": {},
   "source": [
    "### Q19. How does Pandas simplify time series analysis?\n",
    "\n",
    "**Pandas time series features:**\n",
    "- **DatetimeIndex**: Specialized index for time data\n",
    "- **Period objects**: Fixed time spans\n",
    "- **Resampling**: Change frequency (daily to monthly)\n",
    "- **Time zone handling**: Localization and conversion\n",
    "- **Date arithmetic**: Easy date calculations\n",
    "- **Shifting/lagging**: Lead/lag operations\n",
    "- **Rolling windows**: Moving averages and statistics"
   ]
  },
  {
   "cell_type": "markdown",
   "metadata": {},
   "source": [
    "### Q20. What is the role of a pivot table in Pandas?\n",
    "\n",
    "**Pivot tables** reshape and summarize data by grouping and aggregating.\n",
    "\n",
    "**Key components:**\n",
    "- **Index**: Row grouping variables\n",
    "- **Columns**: Column grouping variables  \n",
    "- **Values**: Data to aggregate\n",
    "- **Aggfunc**: Aggregation function (sum, mean, count)\n",
    "\n",
    "**Benefits:**\n",
    "- Quick data summarization\n",
    "- Cross-tabulation analysis\n",
    "- Data exploration\n",
    "- Report generation"
   ]
  },
  {
   "cell_type": "markdown",
   "metadata": {},
   "source": [
    "### Q21. Why is NumPy's array slicing faster than Python's list slicing?\n",
    "\n",
    "**NumPy advantages:**\n",
    "- **Views not copies**: Slicing creates views, not new arrays\n",
    "- **Contiguous memory**: Data stored in contiguous blocks\n",
    "- **C implementation**: Core operations in optimized C\n",
    "- **No object overhead**: Direct memory access\n",
    "- **Vectorized operations**: SIMD instructions when possible"
   ]
  },
  {
   "cell_type": "markdown",
   "metadata": {},
   "source": [
    "### Q22. What are some common use cases for Seaborn?\n",
    "\n",
    "**Common Seaborn applications:**\n",
    "- **Exploratory Data Analysis**: Quick statistical summaries\n",
    "- **Correlation analysis**: Heatmaps of correlation matrices\n",
    "- **Distribution analysis**: Histograms, KDE plots, box plots\n",
    "- **Regression analysis**: Scatter plots with regression lines\n",
    "- **Categorical data**: Bar plots, count plots, violin plots\n",
    "- **Multi-variable analysis**: Pair plots, facet grids\n",
    "- **Time series**: Line plots with confidence intervals\n",
    "- **Statistical testing**: Visual hypothesis testing"
   ]
  },
  {
   "cell_type": "markdown",
   "metadata": {},
   "source": [
    "---\n",
    "## Practical Questions (13 Questions)"
   ]
  },
  {
   "cell_type": "markdown",
   "metadata": {},
   "source": [
    "### Q1. How do you create a 2D NumPy array and calculate the sum of each row?"
   ]
  },
  {
   "cell_type": "code",
   "execution_count": 5,
   "metadata": {},
   "outputs": [
    {
     "name": "stdout",
     "output_type": "stream",
     "text": [
      "2D Array:\n",
      "[[ 1  2  3  4]\n",
      " [ 5  6  7  8]\n",
      " [ 9 10 11 12]]\n",
      "Sum of each row: [10 26 42]\n",
      "Alternative method: [10 26 42]\n"
     ]
    }
   ],
   "source": [
    "import numpy as np\n",
    "\n",
    "# Create a 2D NumPy array\n",
    "arr_2d = np.array([[1, 2, 3, 4],\n",
    "                   [5, 6, 7, 8],\n",
    "                   [9, 10, 11, 12]])\n",
    "\n",
    "print(\"2D Array:\")\n",
    "print(arr_2d)\n",
    "\n",
    "# Calculate sum of each row (axis=1 means sum along columns)\n",
    "row_sums = np.sum(arr_2d, axis=1)\n",
    "print(\"Sum of each row:\", row_sums)\n",
    "\n",
    "# Alternative method\n",
    "row_sums_alt = arr_2d.sum(axis=1)\n",
    "print(\"Alternative method:\", row_sums_alt)"
   ]
  },
  {
   "cell_type": "markdown",
   "metadata": {},
   "source": [
    "### Q2. Write a Pandas script to find the mean of a specific column in a DataFrame"
   ]
  },
  {
   "cell_type": "code",
   "execution_count": 6,
   "metadata": {},
   "outputs": [
    {
     "name": "stdout",
     "output_type": "stream",
     "text": [
      "DataFrame:\n",
      "      Name  Age  Salary Department\n",
      "0    Alice   25   50000         HR\n",
      "1      Bob   30   60000         IT\n",
      "2  Charlie   35   70000    Finance\n",
      "3    Diana   28   55000         HR\n",
      "4      Eve   32   65000         IT\n",
      "\n",
      "Mean age: 30.0\n",
      "Mean salary: 60000.0\n",
      "\n",
      "Means for multiple columns:\n",
      "Age          30.0\n",
      "Salary    60000.0\n",
      "dtype: float64\n"
     ]
    }
   ],
   "source": [
    "import pandas as pd\n",
    "\n",
    "# Create a sample DataFrame\n",
    "data = {\n",
    "    'Name': ['Alice', 'Bob', 'Charlie', 'Diana', 'Eve'],\n",
    "    'Age': [25, 30, 35, 28, 32],\n",
    "    'Salary': [50000, 60000, 70000, 55000, 65000],\n",
    "    'Department': ['HR', 'IT', 'Finance', 'HR', 'IT']\n",
    "}\n",
    "\n",
    "df = pd.DataFrame(data)\n",
    "print(\"DataFrame:\")\n",
    "print(df)\n",
    "\n",
    "# Method 1: Using column name\n",
    "age_mean = df['Age'].mean()\n",
    "print(f\"\\nMean age: {age_mean}\")\n",
    "\n",
    "# Method 2: Using dot notation\n",
    "salary_mean = df.Salary.mean()\n",
    "print(f\"Mean salary: {salary_mean}\")\n",
    "\n",
    "# Method 3: Multiple columns\n",
    "numeric_means = df[['Age', 'Salary']].mean()\n",
    "print(\"\\nMeans for multiple columns:\")\n",
    "print(numeric_means)"
   ]
  },
  {
   "cell_type": "markdown",
   "metadata": {},
   "source": [
    "### Q3. Create a scatter plot using Matplotlib"
   ]
  },
  {
   "cell_type": "code",
   "execution_count": 7,
   "metadata": {},
   "outputs": [
    {
     "data": {
      "image/png": "[encoded data removed]",
      "text/plain": [
       "<Figure size 800x600 with 1 Axes>"
      ]
     },
     "metadata": {},
     "output_type": "display_data"
    }
   ],
   "source": [
    "import matplotlib.pyplot as plt\n",
    "import numpy as np\n",
    "\n",
    "# Generate sample data\n",
    "np.random.seed(42)\n",
    "x = np.random.randn(100)\n",
    "y = 2 * x + np.random.randn(100)\n",
    "\n",
    "# Create scatter plot\n",
    "plt.figure(figsize=(8, 6))\n",
    "plt.scatter(x, y, alpha=0.7, c='blue', edgecolors='black', linewidth=0.5)\n",
    "\n",
    "# Customize the plot\n",
    "plt.title('Scatter Plot Example', fontsize=16, fontweight='bold')\n",
    "plt.xlabel('X values', fontsize=12)\n",
    "plt.ylabel('Y values', fontsize=12)\n",
    "plt.grid(True, alpha=0.3)\n",
    "\n",
    "# Add a trend line\n",
    "z = np.polyfit(x, y, 1)\n",
    "p = np.poly1d(z)\n",
    "plt.plot(x, p(x), \"r--\", alpha=0.8, label='Trend line')\n",
    "plt.legend()\n",
    "\n",
    "plt.tight_layout()\n",
    "plt.show()"
   ]
  },
  {
   "cell_type": "markdown",
   "metadata": {},
   "source": [
    "### Q4. How do you calculate the correlation matrix using Seaborn and visualize it with a heatmap?"
   ]
  },
  {
   "cell_type": "code",
   "execution_count": 8,
   "metadata": {},
   "outputs": [
    {
     "name": "stdout",
     "output_type": "stream",
     "text": [
      "Correlation Matrix:\n",
      "          Height    Weight       Age    Income\n",
      "Height  1.000000  0.801826  0.097139  0.182964\n",
      "Weight  0.801826  1.000000  0.119212  0.155194\n",
      "Age     0.097139  0.119212  1.000000  0.666330\n",
      "Income  0.182964  0.155194  0.666330  1.000000\n"
     ]
    },
    {
     "data": {
      "image/png": "[encoded data removed]",
      "text/plain": [
       "<Figure size 1000x800 with 2 Axes>"
      ]
     },
     "metadata": {},
     "output_type": "display_data"
    }
   ],
   "source": [
    "import pandas as pd\n",
    "import seaborn as sns\n",
    "import matplotlib.pyplot as plt\n",
    "import numpy as np\n",
    "\n",
    "# Create sample data\n",
    "np.random.seed(42)\n",
    "data = {\n",
    "    'Height': np.random.normal(170, 10, 100),\n",
    "    'Weight': np.random.normal(70, 15, 100),\n",
    "    'Age': np.random.randint(18, 65, 100),\n",
    "    'Income': np.random.normal(50000, 20000, 100)\n",
    "}\n",
    "\n",
    "# Add some correlation\n",
    "data['Weight'] = data['Height'] * 0.8 + np.random.normal(0, 5, 100)\n",
    "data['Income'] = data['Age'] * 800 + np.random.normal(0, 10000, 100)\n",
    "\n",
    "df = pd.DataFrame(data)\n",
    "\n",
    "# Calculate correlation matrix\n",
    "correlation_matrix = df.corr()\n",
    "print(\"Correlation Matrix:\")\n",
    "print(correlation_matrix)\n",
    "\n",
    "# Create heatmap\n",
    "plt.figure(figsize=(10, 8))\n",
    "sns.heatmap(correlation_matrix, \n",
    "            annot=True,\n",
    "            cmap='coolwarm',\n",
    "            center=0,\n",
    "            square=True,\n",
    "            fmt='.2f')\n",
    "\n",
    "plt.title('Correlation Matrix Heatmap', fontsize=16, fontweight='bold')\n",
    "plt.tight_layout()\n",
    "plt.show()"
   ]
  },
  {
   "cell_type": "markdown",
   "metadata": {},
   "source": [
    "### Q5. Generate a bar plot using Plotly"
   ]
  },
  {
   "cell_type": "code",
   "execution_count": 9,
   "metadata": {},
   "outputs": [
    {
     "data": {
      "application/vnd.plotly.v1+json": {
       "config": {
        "plotlyServerURL": "https://plot.ly"
       },
       "data": [
        {
         "hovertemplate": "Products=%{x}<br>Sales=%{marker.color}<extra></extra>",
         "legendgroup": "",
         "marker": {
          "color": {
           "bdata": "Fy04TiA=",
           "dtype": "i1"
          },
          "coloraxis": "coloraxis",
          "pattern": {
           "shape": ""
          }
         },
         "name": "",
         "orientation": "v",
         "showlegend": false,
         "textposition": "auto",
         "type": "bar",
         "x": [
          "Product A",
          "Product B",
          "Product C",
          "Product D",
          "Product E"
         ],
         "xaxis": "x",
         "y": {
          "bdata": "Fy04TiA=",
          "dtype": "i1"
         },
         "yaxis": "y"
        }
       ],
       "layout": {
        "barmode": "relative",
        "coloraxis": {
         "colorbar": {
          "title": {
           "text": "Sales"
          }
         },
         "colorscale": [
          [
           0,
           "#440154"
          ],
          [
           0.1111111111111111,
           "#482878"
          ],
          [
           0.2222222222222222,
           "#3e4989"
          ],
          [
           0.3333333333333333,
           "#31688e"
          ],
          [
           0.4444444444444444,
           "#26828e"
          ],
          [
           0.5555555555555556,
           "#1f9e89"
          ],
          [
           0.6666666666666666,
           "#35b779"
          ],
          [
           0.7777777777777778,
           "#6ece58"
          ],
          [
           0.8888888888888888,
           "#b5de2b"
          ],
          [
           1,
           "#fde725"
          ]
         ]
        },
        "legend": {
         "tracegroupgap": 0
        },
        "template": {
         "data": {
          "bar": [
           {
            "error_x": {
             "color": "#2a3f5f"
            },
            "error_y": {
             "color": "#2a3f5f"
            },
            "marker": {
             "line": {
              "color": "#E5ECF6",
              "width": 0.5
             },
             "pattern": {
              "fillmode": "overlay",
              "size": 10,
              "solidity": 0.2
             }
            },
            "type": "bar"
           }
          ],
          "barpolar": [
           {
            "marker": {
             "line": {
              "color": "#E5ECF6",
              "width": 0.5
             },
             "pattern": {
              "fillmode": "overlay",
              "size": 10,
              "solidity": 0.2
             }
            },
            "type": "barpolar"
           }
          ],
          "carpet": [
           {
            "aaxis": {
             "endlinecolor": "#2a3f5f",
             "gridcolor": "white",
             "linecolor": "white",
             "minorgridcolor": "white",
             "startlinecolor": "#2a3f5f"
            },
            "baxis": {
             "endlinecolor": "#2a3f5f",
             "gridcolor": "white",
             "linecolor": "white",
             "minorgridcolor": "white",
             "startlinecolor": "#2a3f5f"
            },
            "type": "carpet"
           }
          ],
          "choropleth": [
           {
            "colorbar": {
             "outlinewidth": 0,
             "ticks": ""
            },
            "type": "choropleth"
           }
          ],
          "contour": [
           {
            "colorbar": {
             "outlinewidth": 0,
             "ticks": ""
            },
            "colorscale": [
             [
              0,
              "#0d0887"
             ],
             [
              0.1111111111111111,
              "#46039f"
             ],
             [
              0.2222222222222222,
              "#7201a8"
             ],
             [
              0.3333333333333333,
              "#9c179e"
             ],
             [
              0.4444444444444444,
              "#bd3786"
             ],
             [
              0.5555555555555556,
              "#d8576b"
             ],
             [
              0.6666666666666666,
              "#ed7953"
             ],
             [
              0.7777777777777778,
              "#fb9f3a"
             ],
             [
              0.8888888888888888,
              "#fdca26"
             ],
             [
              1,
              "#f0f921"
             ]
            ],
            "type": "contour"
           }
          ],
          "contourcarpet": [
           {
            "colorbar": {
             "outlinewidth": 0,
             "ticks": ""
            },
            "type": "contourcarpet"
           }
          ],
          "heatmap": [
           {
            "colorbar": {
             "outlinewidth": 0,
             "ticks": ""
            },
            "colorscale": [
             [
              0,
              "#0d0887"
             ],
             [
              0.1111111111111111,
              "#46039f"
             ],
             [
              0.2222222222222222,
              "#7201a8"
             ],
             [
              0.3333333333333333,
              "#9c179e"
             ],
             [
              0.4444444444444444,
              "#bd3786"
             ],
             [
              0.5555555555555556,
              "#d8576b"
             ],
             [
              0.6666666666666666,
              "#ed7953"
             ],
             [
              0.7777777777777778,
              "#fb9f3a"
             ],
             [
              0.8888888888888888,
              "#fdca26"
             ],
             [
              1,
              "#f0f921"
             ]
            ],
            "type": "heatmap"
           }
          ],
          "histogram": [
           {
            "marker": {
             "pattern": {
              "fillmode": "overlay",
              "size": 10,
              "solidity": 0.2
             }
            },
            "type": "histogram"
           }
          ],
          "histogram2d": [
           {
            "colorbar": {
             "outlinewidth": 0,
             "ticks": ""
            },
            "colorscale": [
             [
              0,
              "#0d0887"
             ],
             [
              0.1111111111111111,
              "#46039f"
             ],
             [
              0.2222222222222222,
              "#7201a8"
             ],
             [
              0.3333333333333333,
              "#9c179e"
             ],
             [
              0.4444444444444444,
              "#bd3786"
             ],
             [
              0.5555555555555556,
              "#d8576b"
             ],
             [
              0.6666666666666666,
              "#ed7953"
             ],
             [
              0.7777777777777778,
              "#fb9f3a"
             ],
             [
              0.8888888888888888,
              "#fdca26"
             ],
             [
              1,
              "#f0f921"
             ]
            ],
            "type": "histogram2d"
           }
          ],
          "histogram2dcontour": [
           {
            "colorbar": {
             "outlinewidth": 0,
             "ticks": ""
            },
            "colorscale": [
             [
              0,
              "#0d0887"
             ],
             [
              0.1111111111111111,
              "#46039f"
             ],
             [
              0.2222222222222222,
              "#7201a8"
             ],
             [
              0.3333333333333333,
              "#9c179e"
             ],
             [
              0.4444444444444444,
              "#bd3786"
             ],
             [
              0.5555555555555556,
              "#d8576b"
             ],
             [
              0.6666666666666666,
              "#ed7953"
             ],
             [
              0.7777777777777778,
              "#fb9f3a"
             ],
             [
              0.8888888888888888,
              "#fdca26"
             ],
             [
              1,
              "#f0f921"
             ]
            ],
            "type": "histogram2dcontour"
           }
          ],
          "mesh3d": [
           {
            "colorbar": {
             "outlinewidth": 0,
             "ticks": ""
            },
            "type": "mesh3d"
           }
          ],
          "parcoords": [
           {
            "line": {
             "colorbar": {
              "outlinewidth": 0,
              "ticks": ""
             }
            },
            "type": "parcoords"
           }
          ],
          "pie": [
           {
            "automargin": true,
            "type": "pie"
           }
          ],
          "scatter": [
           {
            "fillpattern": {
             "fillmode": "overlay",
             "size": 10,
             "solidity": 0.2
            },
            "type": "scatter"
           }
          ],
          "scatter3d": [
           {
            "line": {
             "colorbar": {
              "outlinewidth": 0,
              "ticks": ""
             }
            },
            "marker": {
             "colorbar": {
              "outlinewidth": 0,
              "ticks": ""
             }
            },
            "type": "scatter3d"
           }
          ],
          "scattercarpet": [
           {
            "marker": {
             "colorbar": {
              "outlinewidth": 0,
              "ticks": ""
             }
            },
            "type": "scattercarpet"
           }
          ],
          "scattergeo": [
           {
            "marker": {
             "colorbar": {
              "outlinewidth": 0,
              "ticks": ""
             }
            },
            "type": "scattergeo"
           }
          ],
          "scattergl": [
           {
            "marker": {
             "colorbar": {
              "outlinewidth": 0,
              "ticks": ""
             }
            },
            "type": "scattergl"
           }
          ],
          "scattermap": [
           {
            "marker": {
             "colorbar": {
              "outlinewidth": 0,
              "ticks": ""
             }
            },
            "type": "scattermap"
           }
          ],
          "scattermapbox": [
           {
            "marker": {
             "colorbar": {
              "outlinewidth": 0,
              "ticks": ""
             }
            },
            "type": "scattermapbox"
           }
          ],
          "scatterpolar": [
           {
            "marker": {
             "colorbar": {
              "outlinewidth": 0,
              "ticks": ""
             }
            },
            "type": "scatterpolar"
           }
          ],
          "scatterpolargl": [
           {
            "marker": {
             "colorbar": {
              "outlinewidth": 0,
              "ticks": ""
             }
            },
            "type": "scatterpolargl"
           }
          ],
          "scatterternary": [
           {
            "marker": {
             "colorbar": {
              "outlinewidth": 0,
              "ticks": ""
             }
            },
            "type": "scatterternary"
           }
          ],
          "surface": [
           {
            "colorbar": {
             "outlinewidth": 0,
             "ticks": ""
            },
            "colorscale": [
             [
              0,
              "#0d0887"
             ],
             [
              0.1111111111111111,
              "#46039f"
             ],
             [
              0.2222222222222222,
              "#7201a8"
             ],
             [
              0.3333333333333333,
              "#9c179e"
             ],
             [
              0.4444444444444444,
              "#bd3786"
             ],
             [
              0.5555555555555556,
              "#d8576b"
             ],
             [
              0.6666666666666666,
              "#ed7953"
             ],
             [
              0.7777777777777778,
              "#fb9f3a"
             ],
             [
              0.8888888888888888,
              "#fdca26"
             ],
             [
              1,
              "#f0f921"
             ]
            ],
            "type": "surface"
           }
          ],
          "table": [
           {
            "cells": {
             "fill": {
              "color": "#EBF0F8"
             },
             "line": {
              "color": "white"
             }
            },
            "header": {
             "fill": {
              "color": "#C8D4E3"
             },
             "line": {
              "color": "white"
             }
            },
            "type": "table"
           }
          ]
         },
         "layout": {
          "annotationdefaults": {
           "arrowcolor": "#2a3f5f",
           "arrowhead": 0,
           "arrowwidth": 1
          },
          "autotypenumbers": "strict",
          "coloraxis": {
           "colorbar": {
            "outlinewidth": 0,
            "ticks": ""
           }
          },
          "colorscale": {
           "diverging": [
            [
             0,
             "#8e0152"
            ],
            [
             0.1,
             "#c51b7d"
            ],
            [
             0.2,
             "#de77ae"
            ],
            [
             0.3,
             "#f1b6da"
            ],
            [
             0.4,
             "#fde0ef"
            ],
            [
             0.5,
             "#f7f7f7"
            ],
            [
             0.6,
             "#e6f5d0"
            ],
            [
             0.7,
             "#b8e186"
            ],
            [
             0.8,
             "#7fbc41"
            ],
            [
             0.9,
             "#4d9221"
            ],
            [
             1,
             "#276419"
            ]
           ],
           "sequential": [
            [
             0,
             "#0d0887"
            ],
            [
             0.1111111111111111,
             "#46039f"
            ],
            [
             0.2222222222222222,
             "#7201a8"
            ],
            [
             0.3333333333333333,
             "#9c179e"
            ],
            [
             0.4444444444444444,
             "#bd3786"
            ],
            [
             0.5555555555555556,
             "#d8576b"
            ],
            [
             0.6666666666666666,
             "#ed7953"
            ],
            [
             0.7777777777777778,
             "#fb9f3a"
            ],
            [
             0.8888888888888888,
             "#fdca26"
            ],
            [
             1,
             "#f0f921"
            ]
           ],
           "sequentialminus": [
            [
             0,
             "#0d0887"
            ],
            [
             0.1111111111111111,
             "#46039f"
            ],
            [
             0.2222222222222222,
             "#7201a8"
            ],
            [
             0.3333333333333333,
             "#9c179e"
            ],
            [
             0.4444444444444444,
             "#bd3786"
            ],
            [
             0.5555555555555556,
             "#d8576b"
            ],
            [
             0.6666666666666666,
             "#ed7953"
            ],
            [
             0.7777777777777778,
             "#fb9f3a"
            ],
            [
             0.8888888888888888,
             "#fdca26"
            ],
            [
             1,
             "#f0f921"
            ]
           ]
          },
          "colorway": [
           "#636efa",
           "#EF553B",
           "#00cc96",
           "#ab63fa",
           "#FFA15A",
           "#19d3f3",
           "#FF6692",
           "#B6E880",
           "#FF97FF",
           "#FECB52"
          ],
          "font": {
           "color": "#2a3f5f"
          },
          "geo": {
           "bgcolor": "white",
           "lakecolor": "white",
           "landcolor": "#E5ECF6",
           "showlakes": true,
           "showland": true,
           "subunitcolor": "white"
          },
          "hoverlabel": {
           "align": "left"
          },
          "hovermode": "closest",
          "mapbox": {
           "style": "light"
          },
          "paper_bgcolor": "white",
          "plot_bgcolor": "#E5ECF6",
          "polar": {
           "angularaxis": {
            "gridcolor": "white",
            "linecolor": "white",
            "ticks": ""
           },
           "bgcolor": "#E5ECF6",
           "radialaxis": {
            "gridcolor": "white",
            "linecolor": "white",
            "ticks": ""
           }
          },
          "scene": {
           "xaxis": {
            "backgroundcolor": "#E5ECF6",
            "gridcolor": "white",
            "gridwidth": 2,
            "linecolor": "white",
            "showbackground": true,
            "ticks": "",
            "zerolinecolor": "white"
           },
           "yaxis": {
            "backgroundcolor": "#E5ECF6",
            "gridcolor": "white",
            "gridwidth": 2,
            "linecolor": "white",
            "showbackground": true,
            "ticks": "",
            "zerolinecolor": "white"
           },
           "zaxis": {
            "backgroundcolor": "#E5ECF6",
            "gridcolor": "white",
            "gridwidth": 2,
            "linecolor": "white",
            "showbackground": true,
            "ticks": "",
            "zerolinecolor": "white"
           }
          },
          "shapedefaults": {
           "line": {
            "color": "#2a3f5f"
           }
          },
          "ternary": {
           "aaxis": {
            "gridcolor": "white",
            "linecolor": "white",
            "ticks": ""
           },
           "baxis": {
            "gridcolor": "white",
            "linecolor": "white",
            "ticks": ""
           },
           "bgcolor": "#E5ECF6",
           "caxis": {
            "gridcolor": "white",
            "linecolor": "white",
            "ticks": ""
           }
          },
          "title": {
           "x": 0.05
          },
          "xaxis": {
           "automargin": true,
           "gridcolor": "white",
           "linecolor": "white",
           "ticks": "",
           "title": {
            "standoff": 15
           },
           "zerolinecolor": "white",
           "zerolinewidth": 2
          },
          "yaxis": {
           "automargin": true,
           "gridcolor": "white",
           "linecolor": "white",
           "ticks": "",
           "title": {
            "standoff": 15
           },
           "zerolinecolor": "white",
           "zerolinewidth": 2
          }
         }
        },
        "title": {
         "text": "Sales by Product"
        },
        "xaxis": {
         "anchor": "y",
         "domain": [
          0,
          1
         ],
         "title": {
          "text": "Products"
         }
        },
        "yaxis": {
         "anchor": "x",
         "domain": [
          0,
          1
         ],
         "title": {
          "text": "Sales (in thousands)"
         }
        }
       }
      }
     },
     "metadata": {},
     "output_type": "display_data"
    }
   ],
   "source": [
    "import plotly.express as px\n",
    "import pandas as pd\n",
    "\n",
    "# Sample data\n",
    "data = {\n",
    "    'Products': ['Product A', 'Product B', 'Product C', 'Product D', 'Product E'],\n",
    "    'Sales': [23, 45, 56, 78, 32]\n",
    "}\n",
    "\n",
    "df = pd.DataFrame(data)\n",
    "\n",
    "# Create bar plot\n",
    "fig = px.bar(df, x='Products', y='Sales', \n",
    "             title='Sales by Product',\n",
    "             color='Sales',\n",
    "             color_continuous_scale='viridis')\n",
    "\n",
    "fig.update_layout(\n",
    "    xaxis_title='Products',\n",
    "    yaxis_title='Sales (in thousands)'\n",
    ")\n",
    "\n",
    "fig.show()"
   ]
  },
  {
   "cell_type": "markdown",
   "metadata": {},
   "source": [
    "### Q6. Create a DataFrame and add a new column based on an existing column"
   ]
  },
  {
   "cell_type": "code",
   "execution_count": 10,
   "metadata": {},
   "outputs": [
    {
     "name": "stdout",
     "output_type": "stream",
     "text": [
      "Original DataFrame:\n",
      "   Employee_ID     Name  Basic_Salary  Experience_Years\n",
      "0          101    Alice         50000                 2\n",
      "1          102      Bob         60000                 5\n",
      "2          103  Charlie         55000                 3\n",
      "3          104    Diana         70000                 8\n",
      "4          105      Eve         65000                 6\n",
      "\n",
      "DataFrame with new columns:\n",
      "   Employee_ID     Name  Basic_Salary  Experience_Years  Annual_Salary  \\\n",
      "0          101    Alice         50000                 2         600000   \n",
      "1          102      Bob         60000                 5         720000   \n",
      "2          103  Charlie         55000                 3         660000   \n",
      "3          104    Diana         70000                 8         840000   \n",
      "4          105      Eve         65000                 6         780000   \n",
      "\n",
      "    Bonus Experience_Level  \n",
      "0  5000.0           Junior  \n",
      "1  6000.0              Mid  \n",
      "2  5500.0              Mid  \n",
      "3  7000.0           Senior  \n",
      "4  6500.0           Senior  \n"
     ]
    }
   ],
   "source": [
    "import pandas as pd\n",
    "import numpy as np\n",
    "\n",
    "# Create a DataFrame\n",
    "data = {\n",
    "    'Employee_ID': [101, 102, 103, 104, 105],\n",
    "    'Name': ['Alice', 'Bob', 'Charlie', 'Diana', 'Eve'],\n",
    "    'Basic_Salary': [50000, 60000, 55000, 70000, 65000],\n",
    "    'Experience_Years': [2, 5, 3, 8, 6]\n",
    "}\n",
    "\n",
    "df = pd.DataFrame(data)\n",
    "print(\"Original DataFrame:\")\n",
    "print(df)\n",
    "\n",
    "# Add new columns based on existing columns\n",
    "df['Annual_Salary'] = df['Basic_Salary'] * 12\n",
    "df['Bonus'] = df['Basic_Salary'] * 0.1\n",
    "df['Experience_Level'] = df['Experience_Years'].apply(\n",
    "    lambda x: 'Junior' if x < 3 else 'Mid' if x < 6 else 'Senior'\n",
    ")\n",
    "\n",
    "print(\"\\nDataFrame with new columns:\")\n",
    "print(df)"
   ]
  },
  {
   "cell_type": "markdown",
   "metadata": {},
   "source": [
    "### Q7. Write a program to perform element-wise multiplication of two NumPy arrays"
   ]
  },
  {
   "cell_type": "code",
   "execution_count": 11,
   "metadata": {},
   "outputs": [
    {
     "name": "stdout",
     "output_type": "stream",
     "text": [
      "Array 1: [1 2 3 4 5]\n",
      "Array 2: [2 3 4 5 6]\n",
      "\n",
      "Element-wise multiplication: [ 2  6 12 20 30]\n",
      "\n",
      "2D Array 1:\n",
      "[[1 2]\n",
      " [3 4]]\n",
      "\n",
      "2D Array 2:\n",
      "[[5 6]\n",
      " [7 8]]\n",
      "\n",
      "2D Element-wise multiplication:\n",
      "[[ 5 12]\n",
      " [21 32]]\n"
     ]
    }
   ],
   "source": [
    "import numpy as np\n",
    "\n",
    "# Create two NumPy arrays\n",
    "array1 = np.array([1, 2, 3, 4, 5])\n",
    "array2 = np.array([2, 3, 4, 5, 6])\n",
    "\n",
    "print(\"Array 1:\", array1)\n",
    "print(\"Array 2:\", array2)\n",
    "\n",
    "# Element-wise multiplication\n",
    "result = array1 * array2\n",
    "print(\"\\nElement-wise multiplication:\", result)\n",
    "\n",
    "# 2D array example\n",
    "array_2d_1 = np.array([[1, 2], [3, 4]])\n",
    "array_2d_2 = np.array([[5, 6], [7, 8]])\n",
    "\n",
    "print(\"\\n2D Array 1:\")\n",
    "print(array_2d_1)\n",
    "print(\"\\n2D Array 2:\")\n",
    "print(array_2d_2)\n",
    "\n",
    "result_2d = array_2d_1 * array_2d_2\n",
    "print(\"\\n2D Element-wise multiplication:\")\n",
    "print(result_2d)"
   ]
  },
  {
   "cell_type": "markdown",
   "metadata": {},
   "source": [
    "### Q8. Create a line plot with multiple lines using Matplotlib"
   ]
  },
  {
   "cell_type": "code",
   "execution_count": 12,
   "metadata": {},
   "outputs": [
    {
     "data": {
      "image/png": "[encoded data removed]",
      "text/plain": [
       "<Figure size 1200x800 with 1 Axes>"
      ]
     },
     "metadata": {},
     "output_type": "display_data"
    }
   ],
   "source": [
    "import matplotlib.pyplot as plt\n",
    "import numpy as np\n",
    "\n",
    "# Generate data\n",
    "x = np.linspace(0, 10, 100)\n",
    "y1 = np.sin(x)\n",
    "y2 = np.cos(x)\n",
    "y3 = np.sin(x) * np.cos(x)\n",
    "\n",
    "# Create the plot\n",
    "plt.figure(figsize=(12, 8))\n",
    "\n",
    "# Plot multiple lines\n",
    "plt.plot(x, y1, label='sin(x)', linewidth=2, color='blue', linestyle='-')\n",
    "plt.plot(x, y2, label='cos(x)', linewidth=2, color='red', linestyle='--')\n",
    "plt.plot(x, y3, label='sin(x)cos(x)', linewidth=2, color='green', linestyle='-.')\n",
    "\n",
    "# Customize the plot\n",
    "plt.title('Multiple Line Plot Example', fontsize=16, fontweight='bold')\n",
    "plt.xlabel('X values', fontsize=12)\n",
    "plt.ylabel('Y values', fontsize=12)\n",
    "plt.legend(loc='upper right', fontsize=10)\n",
    "plt.grid(True, alpha=0.3)\n",
    "\n",
    "plt.tight_layout()\n",
    "plt.show()"
   ]
  },
  {
   "cell_type": "markdown",
   "metadata": {},
   "source": [
    "### Q9. Generate a Pandas DataFrame and filter rows where a column value is greater than a threshold"
   ]
  },
  {
   "cell_type": "code",
   "execution_count": 13,
   "metadata": {},
   "outputs": [
    {
     "name": "stdout",
     "output_type": "stream",
     "text": [
      "Original DataFrame:\n",
      "   Student_ID        Name  Math_Score  Science_Score  Age\n",
      "0           1   Student_1          98             56   17\n",
      "1           2   Student_2          88             75   17\n",
      "2           3   Student_3          74             87   16\n",
      "3           4   Student_4          67             66   17\n",
      "4           5   Student_5          80             76   16\n",
      "5           6   Student_6          98             79   17\n",
      "6           7   Student_7          78             81   18\n",
      "7           8   Student_8          82             82   18\n",
      "8           9   Student_9          70             70   16\n",
      "9          10  Student_10          70             69   18\n",
      "\n",
      "Total students: 20\n",
      "\n",
      "Students with Math score > 80:\n",
      "          Name  Math_Score\n",
      "0    Student_1          98\n",
      "1    Student_2          88\n",
      "5    Student_6          98\n",
      "7    Student_8          82\n",
      "10  Student_11          83\n",
      "11  Student_12          95\n",
      "12  Student_13          99\n",
      "13  Student_14          83\n",
      "15  Student_16          81\n",
      "17  Student_18          83\n",
      "18  Student_19          89\n",
      "19  Student_20          97\n",
      "\n",
      "High performers (Math > 80 AND Science > 75):\n",
      "          Name  Math_Score  Science_Score\n",
      "5    Student_6          98             79\n",
      "7    Student_8          82             82\n",
      "11  Student_12          95             91\n",
      "15  Student_16          81             93\n",
      "18  Student_19          89             79\n"
     ]
    }
   ],
   "source": [
    "import pandas as pd\n",
    "import numpy as np\n",
    "\n",
    "# Generate sample DataFrame\n",
    "np.random.seed(42)\n",
    "data = {\n",
    "    'Student_ID': range(1, 21),\n",
    "    'Name': [f'Student_{i}' for i in range(1, 21)],\n",
    "    'Math_Score': np.random.randint(60, 100, 20),\n",
    "    'Science_Score': np.random.randint(55, 95, 20),\n",
    "    'Age': np.random.randint(16, 19, 20)\n",
    "}\n",
    "\n",
    "df = pd.DataFrame(data)\n",
    "print(\"Original DataFrame:\")\n",
    "print(df.head(10))\n",
    "print(f\"\\nTotal students: {len(df)}\")\n",
    "\n",
    "# Simple filtering\n",
    "threshold = 80\n",
    "high_math_scores = df[df['Math_Score'] > threshold]\n",
    "print(f\"\\nStudents with Math score > {threshold}:\")\n",
    "print(high_math_scores[['Name', 'Math_Score']])\n",
    "\n",
    "# Multiple conditions\n",
    "high_performers = df[(df['Math_Score'] > 80) & (df['Science_Score'] > 75)]\n",
    "print(f\"\\nHigh performers (Math > 80 AND Science > 75):\")\n",
    "print(high_performers[['Name', 'Math_Score', 'Science_Score']])"
   ]
  },
  {
   "cell_type": "markdown",
   "metadata": {},
   "source": [
    "### Q10. Create a histogram using Seaborn to visualize a distribution"
   ]
  },
  {
   "cell_type": "code",
   "execution_count": 14,
   "metadata": {},
   "outputs": [
    {
     "data": {
      "image/png": "[encoded data removed]",
      "text/plain": [
       "<Figure size 1200x800 with 4 Axes>"
      ]
     },
     "metadata": {},
     "output_type": "display_data"
    }
   ],
   "source": [
    "import seaborn as sns\n",
    "import matplotlib.pyplot as plt\n",
    "import numpy as np\n",
    "import pandas as pd\n",
    "\n",
    "# Generate sample data\n",
    "np.random.seed(42)\n",
    "data = {\n",
    "    'Values': np.random.normal(100, 15, 1000),\n",
    "    'Category': np.random.choice(['A', 'B', 'C'], 1000)\n",
    "}\n",
    "df = pd.DataFrame(data)\n",
    "\n",
    "# Set style\n",
    "sns.set_style(\"whitegrid\")\n",
    "plt.figure(figsize=(12, 8))\n",
    "\n",
    "# Basic histogram with KDE\n",
    "plt.subplot(2, 2, 1)\n",
    "sns.histplot(data=df, x='Values', bins=30, kde=True)\n",
    "plt.title('Distribution with KDE')\n",
    "\n",
    "# Histogram by category\n",
    "plt.subplot(2, 2, 2)\n",
    "sns.histplot(data=df, x='Values', hue='Category', bins=20, alpha=0.6)\n",
    "plt.title('Distribution by Category')\n",
    "\n",
    "# Using tips dataset\n",
    "tips = sns.load_dataset('tips')\n",
    "plt.subplot(2, 2, 3)\n",
    "sns.histplot(data=tips, x='total_bill', bins=20)\n",
    "plt.title('Tips Dataset: Total Bill')\n",
    "\n",
    "plt.subplot(2, 2, 4)\n",
    "sns.histplot(data=tips, x='total_bill', hue='time', bins=15)\n",
    "plt.title('Total Bill by Time')\n",
    "\n",
    "plt.tight_layout()\n",
    "plt.show()"
   ]
  },
  {
   "cell_type": "markdown",
   "metadata": {},
   "source": [
    "### Q11. Perform matrix multiplication using NumPy"
   ]
  },
  {
   "cell_type": "code",
   "execution_count": 15,
   "metadata": {},
   "outputs": [
    {
     "name": "stdout",
     "output_type": "stream",
     "text": [
      "Matrix A (2x3):\n",
      "[[1 2 3]\n",
      " [4 5 6]]\n",
      "Shape: (2, 3)\n",
      "\n",
      "Matrix B (3x2):\n",
      "[[ 7  8]\n",
      " [ 9 10]\n",
      " [11 12]]\n",
      "Shape: (3, 2)\n",
      "\n",
      "Matrix multiplication using np.dot():\n",
      "[[ 58  64]\n",
      " [139 154]]\n",
      "Result shape: (2, 2)\n",
      "\n",
      "Matrix multiplication using @ operator:\n",
      "[[ 58  64]\n",
      " [139 154]]\n",
      "\n",
      "Both methods equal? True\n"
     ]
    }
   ],
   "source": [
    "import numpy as np\n",
    "\n",
    "# Create matrices\n",
    "A = np.array([[1, 2, 3],\n",
    "              [4, 5, 6]])\n",
    "\n",
    "B = np.array([[7, 8],\n",
    "              [9, 10],\n",
    "              [11, 12]])\n",
    "\n",
    "print(\"Matrix A (2x3):\")\n",
    "print(A)\n",
    "print(f\"Shape: {A.shape}\")\n",
    "\n",
    "print(\"\\nMatrix B (3x2):\")\n",
    "print(B)\n",
    "print(f\"Shape: {B.shape}\")\n",
    "\n",
    "# Method 1: Using np.dot()\n",
    "result_dot = np.dot(A, B)\n",
    "print(\"\\nMatrix multiplication using np.dot():\")\n",
    "print(result_dot)\n",
    "print(f\"Result shape: {result_dot.shape}\")\n",
    "\n",
    "# Method 2: Using @ operator\n",
    "result_at = A @ B\n",
    "print(\"\\nMatrix multiplication using @ operator:\")\n",
    "print(result_at)\n",
    "\n",
    "# Verify results are equal\n",
    "print(\"\\nBoth methods equal?\", np.array_equal(result_dot, result_at))"
   ]
  },
  {
   "cell_type": "markdown",
   "metadata": {},
   "source": [
    "### Q12. Use Pandas to load a CSV file and display its first 5 rows"
   ]
  },
  {
   "cell_type": "code",
   "execution_count": 16,
   "metadata": {},
   "outputs": [
    {
     "name": "stdout",
     "output_type": "stream",
     "text": [
      "Sample CSV file created!\n",
      "\n",
      "First 5 rows:\n",
      "   ID      Name  Age      City  Salary\n",
      "0   1  Person_1   56   Chicago   84384\n",
      "1   2  Person_2   46   Chicago   81005\n",
      "2   3  Person_3   32   Chicago   76576\n",
      "3   4  Person_4   60  New York   69353\n",
      "4   5  Person_5   25   Chicago   92003\n",
      "\n",
      "Dataset Info:\n",
      "Shape: (100, 5)\n",
      "Columns: ['ID', 'Name', 'Age', 'City', 'Salary']\n",
      "\n",
      "Data types:\n",
      "ID         int64\n",
      "Name      object\n",
      "Age        int64\n",
      "City      object\n",
      "Salary     int64\n",
      "dtype: object\n"
     ]
    }
   ],
   "source": [
    "import pandas as pd\n",
    "import numpy as np\n",
    "\n",
    "# Create sample CSV file first\n",
    "np.random.seed(42)\n",
    "sample_data = {\n",
    "    'ID': range(1, 101),\n",
    "    'Name': [f'Person_{i}' for i in range(1, 101)],\n",
    "    'Age': np.random.randint(18, 65, 100),\n",
    "    'City': np.random.choice(['New York', 'Los Angeles', 'Chicago'], 100),\n",
    "    'Salary': np.random.randint(30000, 120000, 100)\n",
    "}\n",
    "\n",
    "# Create and save sample CSV\n",
    "sample_df = pd.DataFrame(sample_data)\n",
    "sample_df.to_csv('sample_data.csv', index=False)\n",
    "print(\"Sample CSV file created!\")\n",
    "\n",
    "# Load CSV file\n",
    "df = pd.read_csv('sample_data.csv')\n",
    "print(\"\\nFirst 5 rows:\")\n",
    "print(df.head())\n",
    "\n",
    "# Dataset info\n",
    "print(\"\\nDataset Info:\")\n",
    "print(f\"Shape: {df.shape}\")\n",
    "print(f\"Columns: {list(df.columns)}\")\n",
    "print(\"\\nData types:\")\n",
    "print(df.dtypes)"
   ]
  },
  {
   "cell_type": "markdown",
   "metadata": {},
   "source": [
    "### Q13. Create a 3D scatter plot using Plotly"
   ]
  },
  {
   "cell_type": "code",
   "execution_count": 18,
   "metadata": {},
   "outputs": [
    {
     "data": {
      "application/vnd.plotly.v1+json": {
       "config": {
        "plotlyServerURL": "https://plot.ly"
       },
       "data": [
        {
         "marker": {
          "color": {
           "bdata": "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",
           "dtype": "f8"
          },
          "colorscale": [
           [
            0,
            "#440154"
           ],
           [
            0.1111111111111111,
            "#482878"
           ],
           [
            0.2222222222222222,
            "#3e4989"
           ],
           [
            0.3333333333333333,
            "#31688e"
           ],
           [
            0.4444444444444444,
            "#26828e"
           ],
           [
            0.5555555555555556,
            "#1f9e89"
           ],
           [
            0.6666666666666666,
            "#35b779"
           ],
           [
            0.7777777777777778,
            "#6ece58"
           ],
           [
            0.8888888888888888,
            "#b5de2b"
           ],
           [
            1,
            "#fde725"
           ]
          ],
          "opacity": 0.8,
          "size": {
           "bdata": "CAAAAAYAAAAHAAAABwAAAAgAAAAIAAAADgAAAAkAAAAIAAAADgAAAAwAAAAKAAAACgAAAAwAAAALAAAADgAAAA4AAAAMAAAABgAAAA0AAAAFAAAADAAAAAgAAAAIAAAACQAAAAwAAAAJAAAADAAAAA4AAAAFAAAADgAAAA0AAAAKAAAABwAAAAwAAAANAAAACgAAAAsAAAAFAAAACQAAAAkAAAAOAAAACAAAAAoAAAALAAAADQAAAAUAAAAKAAAACwAAAAcAAAAMAAAACQAAAA0AAAAJAAAADQAAAA4AAAAIAAAADQAAAAkAAAAOAAAADQAAAAcAAAAIAAAADQAAAA4AAAAKAAAABgAAAAsAAAAGAAAABgAAAAUAAAAHAAAACgAAAAwAAAANAAAACwAAAAgAAAAKAAAACQAAAAwAAAAFAAAABQAAAAoAAAAOAAAABgAAAAkAAAAFAAAACwAAAAUAAAAIAAAADQAAAAUAAAAIAAAACgAAAAoAAAAMAAAABQAAAAsAAAAFAAAACwAAAAcAAAAMAAAABwAAAAUAAAAMAAAABwAAAAYAAAAFAAAABwAAAAYAAAAGAAAACgAAAAUAAAAGAAAACgAAAAcAAAAIAAAABQAAAAwAAAALAAAACwAAAAcAAAAOAAAADgAAAAcAAAAGAAAABQAAAAsAAAALAAAABgAAAAsAAAAMAAAABQAAAA0AAAALAAAABwAAAAwAAAALAAAADAAAAAoAAAANAAAACQAAAAcAAAAHAAAABQAAAAwAAAAGAAAABwAAAAwAAAAMAAAACAAAAAgAAAAJAAAACgAAAAkAAAALAAAABgAAAAsAAAAOAAAACwAAAAUAAAALAAAACQAAAAcAAAAHAAAACAAAAAYAAAAGAAAABQAAAAkAAAAIAAAADgAAAAYAAAAHAAAACwAAAAsAAAAIAAAACQAAAAkAAAAKAAAADQAAAAYAAAAJAAAABwAAAAgAAAAOAAAACgAAAAwAAAAFAAAADgAAAAwAAAALAAAABQAAAAYAAAAHAAAABQAAAA0AAAAMAAAABgAAAA0AAAA=",
           "dtype": "i4"
          }
         },
         "mode": "markers",
         "type": "scatter3d",
         "x": {
          "bdata": "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",
          "dtype": "f8"
         },
         "y": {
          "bdata": "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",
          "dtype": "f8"
         },
         "z": {
          "bdata": "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",
          "dtype": "f8"
         }
        }
       ],
       "layout": {
        "scene": {
         "xaxis": {
          "title": {
           "text": "X Axis"
          }
         },
         "yaxis": {
          "title": {
           "text": "Y Axis"
          }
         },
         "zaxis": {
          "title": {
           "text": "Z Axis"
          }
         }
        },
        "template": {
         "data": {
          "bar": [
           {
            "error_x": {
             "color": "#2a3f5f"
            },
            "error_y": {
             "color": "#2a3f5f"
            },
            "marker": {
             "line": {
              "color": "#E5ECF6",
              "width": 0.5
             },
             "pattern": {
              "fillmode": "overlay",
              "size": 10,
              "solidity": 0.2
             }
            },
            "type": "bar"
           }
          ],
          "barpolar": [
           {
            "marker": {
             "line": {
              "color": "#E5ECF6",
              "width": 0.5
             },
             "pattern": {
              "fillmode": "overlay",
              "size": 10,
              "solidity": 0.2
             }
            },
            "type": "barpolar"
           }
          ],
          "carpet": [
           {
            "aaxis": {
             "endlinecolor": "#2a3f5f",
             "gridcolor": "white",
             "linecolor": "white",
             "minorgridcolor": "white",
             "startlinecolor": "#2a3f5f"
            },
            "baxis": {
             "endlinecolor": "#2a3f5f",
             "gridcolor": "white",
             "linecolor": "white",
             "minorgridcolor": "white",
             "startlinecolor": "#2a3f5f"
            },
            "type": "carpet"
           }
          ],
          "choropleth": [
           {
            "colorbar": {
             "outlinewidth": 0,
             "ticks": ""
            },
            "type": "choropleth"
           }
          ],
          "contour": [
           {
            "colorbar": {
             "outlinewidth": 0,
             "ticks": ""
            },
            "colorscale": [
             [
              0,
              "#0d0887"
             ],
             [
              0.1111111111111111,
              "#46039f"
             ],
             [
              0.2222222222222222,
              "#7201a8"
             ],
             [
              0.3333333333333333,
              "#9c179e"
             ],
             [
              0.4444444444444444,
              "#bd3786"
             ],
             [
              0.5555555555555556,
              "#d8576b"
             ],
             [
              0.6666666666666666,
              "#ed7953"
             ],
             [
              0.7777777777777778,
              "#fb9f3a"
             ],
             [
              0.8888888888888888,
              "#fdca26"
             ],
             [
              1,
              "#f0f921"
             ]
            ],
            "type": "contour"
           }
          ],
          "contourcarpet": [
           {
            "colorbar": {
             "outlinewidth": 0,
             "ticks": ""
            },
            "type": "contourcarpet"
           }
          ],
          "heatmap": [
           {
            "colorbar": {
             "outlinewidth": 0,
             "ticks": ""
            },
            "colorscale": [
             [
              0,
              "#0d0887"
             ],
             [
              0.1111111111111111,
              "#46039f"
             ],
             [
              0.2222222222222222,
              "#7201a8"
             ],
             [
              0.3333333333333333,
              "#9c179e"
             ],
             [
              0.4444444444444444,
              "#bd3786"
             ],
             [
              0.5555555555555556,
              "#d8576b"
             ],
             [
              0.6666666666666666,
              "#ed7953"
             ],
             [
              0.7777777777777778,
              "#fb9f3a"
             ],
             [
              0.8888888888888888,
              "#fdca26"
             ],
             [
              1,
              "#f0f921"
             ]
            ],
            "type": "heatmap"
           }
          ],
          "histogram": [
           {
            "marker": {
             "pattern": {
              "fillmode": "overlay",
              "size": 10,
              "solidity": 0.2
             }
            },
            "type": "histogram"
           }
          ],
          "histogram2d": [
           {
            "colorbar": {
             "outlinewidth": 0,
             "ticks": ""
            },
            "colorscale": [
             [
              0,
              "#0d0887"
             ],
             [
              0.1111111111111111,
              "#46039f"
             ],
             [
              0.2222222222222222,
              "#7201a8"
             ],
             [
              0.3333333333333333,
              "#9c179e"
             ],
             [
              0.4444444444444444,
              "#bd3786"
             ],
             [
              0.5555555555555556,
              "#d8576b"
             ],
             [
              0.6666666666666666,
              "#ed7953"
             ],
             [
              0.7777777777777778,
              "#fb9f3a"
             ],
             [
              0.8888888888888888,
              "#fdca26"
             ],
             [
              1,
              "#f0f921"
             ]
            ],
            "type": "histogram2d"
           }
          ],
          "histogram2dcontour": [
           {
            "colorbar": {
             "outlinewidth": 0,
             "ticks": ""
            },
            "colorscale": [
             [
              0,
              "#0d0887"
             ],
             [
              0.1111111111111111,
              "#46039f"
             ],
             [
              0.2222222222222222,
              "#7201a8"
             ],
             [
              0.3333333333333333,
              "#9c179e"
             ],
             [
              0.4444444444444444,
              "#bd3786"
             ],
             [
              0.5555555555555556,
              "#d8576b"
             ],
             [
              0.6666666666666666,
              "#ed7953"
             ],
             [
              0.7777777777777778,
              "#fb9f3a"
             ],
             [
              0.8888888888888888,
              "#fdca26"
             ],
             [
              1,
              "#f0f921"
             ]
            ],
            "type": "histogram2dcontour"
           }
          ],
          "mesh3d": [
           {
            "colorbar": {
             "outlinewidth": 0,
             "ticks": ""
            },
            "type": "mesh3d"
           }
          ],
          "parcoords": [
           {
            "line": {
             "colorbar": {
              "outlinewidth": 0,
              "ticks": ""
             }
            },
            "type": "parcoords"
           }
          ],
          "pie": [
           {
            "automargin": true,
            "type": "pie"
           }
          ],
          "scatter": [
           {
            "fillpattern": {
             "fillmode": "overlay",
             "size": 10,
             "solidity": 0.2
            },
            "type": "scatter"
           }
          ],
          "scatter3d": [
           {
            "line": {
             "colorbar": {
              "outlinewidth": 0,
              "ticks": ""
             }
            },
            "marker": {
             "colorbar": {
              "outlinewidth": 0,
              "ticks": ""
             }
            },
            "type": "scatter3d"
           }
          ],
          "scattercarpet": [
           {
            "marker": {
             "colorbar": {
              "outlinewidth": 0,
              "ticks": ""
             }
            },
            "type": "scattercarpet"
           }
          ],
          "scattergeo": [
           {
            "marker": {
             "colorbar": {
              "outlinewidth": 0,
              "ticks": ""
             }
            },
            "type": "scattergeo"
           }
          ],
          "scattergl": [
           {
            "marker": {
             "colorbar": {
              "outlinewidth": 0,
              "ticks": ""
             }
            },
            "type": "scattergl"
           }
          ],
          "scattermap": [
           {
            "marker": {
             "colorbar": {
              "outlinewidth": 0,
              "ticks": ""
             }
            },
            "type": "scattermap"
           }
          ],
          "scattermapbox": [
           {
            "marker": {
             "colorbar": {
              "outlinewidth": 0,
              "ticks": ""
             }
            },
            "type": "scattermapbox"
           }
          ],
          "scatterpolar": [
           {
            "marker": {
             "colorbar": {
              "outlinewidth": 0,
              "ticks": ""
             }
            },
            "type": "scatterpolar"
           }
          ],
          "scatterpolargl": [
           {
            "marker": {
             "colorbar": {
              "outlinewidth": 0,
              "ticks": ""
             }
            },
            "type": "scatterpolargl"
           }
          ],
          "scatterternary": [
           {
            "marker": {
             "colorbar": {
              "outlinewidth": 0,
              "ticks": ""
             }
            },
            "type": "scatterternary"
           }
          ],
          "surface": [
           {
            "colorbar": {
             "outlinewidth": 0,
             "ticks": ""
            },
            "colorscale": [
             [
              0,
              "#0d0887"
             ],
             [
              0.1111111111111111,
              "#46039f"
             ],
             [
              0.2222222222222222,
              "#7201a8"
             ],
             [
              0.3333333333333333,
              "#9c179e"
             ],
             [
              0.4444444444444444,
              "#bd3786"
             ],
             [
              0.5555555555555556,
              "#d8576b"
             ],
             [
              0.6666666666666666,
              "#ed7953"
             ],
             [
              0.7777777777777778,
              "#fb9f3a"
             ],
             [
              0.8888888888888888,
              "#fdca26"
             ],
             [
              1,
              "#f0f921"
             ]
            ],
            "type": "surface"
           }
          ],
          "table": [
           {
            "cells": {
             "fill": {
              "color": "#EBF0F8"
             },
             "line": {
              "color": "white"
             }
            },
            "header": {
             "fill": {
              "color": "#C8D4E3"
             },
             "line": {
              "color": "white"
             }
            },
            "type": "table"
           }
          ]
         },
         "layout": {
          "annotationdefaults": {
           "arrowcolor": "#2a3f5f",
           "arrowhead": 0,
           "arrowwidth": 1
          },
          "autotypenumbers": "strict",
          "coloraxis": {
           "colorbar": {
            "outlinewidth": 0,
            "ticks": ""
           }
          },
          "colorscale": {
           "diverging": [
            [
             0,
             "#8e0152"
            ],
            [
             0.1,
             "#c51b7d"
            ],
            [
             0.2,
             "#de77ae"
            ],
            [
             0.3,
             "#f1b6da"
            ],
            [
             0.4,
             "#fde0ef"
            ],
            [
             0.5,
             "#f7f7f7"
            ],
            [
             0.6,
             "#e6f5d0"
            ],
            [
             0.7,
             "#b8e186"
            ],
            [
             0.8,
             "#7fbc41"
            ],
            [
             0.9,
             "#4d9221"
            ],
            [
             1,
             "#276419"
            ]
           ],
           "sequential": [
            [
             0,
             "#0d0887"
            ],
            [
             0.1111111111111111,
             "#46039f"
            ],
            [
             0.2222222222222222,
             "#7201a8"
            ],
            [
             0.3333333333333333,
             "#9c179e"
            ],
            [
             0.4444444444444444,
             "#bd3786"
            ],
            [
             0.5555555555555556,
             "#d8576b"
            ],
            [
             0.6666666666666666,
             "#ed7953"
            ],
            [
             0.7777777777777778,
             "#fb9f3a"
            ],
            [
             0.8888888888888888,
             "#fdca26"
            ],
            [
             1,
             "#f0f921"
            ]
           ],
           "sequentialminus": [
            [
             0,
             "#0d0887"
            ],
            [
             0.1111111111111111,
             "#46039f"
            ],
            [
             0.2222222222222222,
             "#7201a8"
            ],
            [
             0.3333333333333333,
             "#9c179e"
            ],
            [
             0.4444444444444444,
             "#bd3786"
            ],
            [
             0.5555555555555556,
             "#d8576b"
            ],
            [
             0.6666666666666666,
             "#ed7953"
            ],
            [
             0.7777777777777778,
             "#fb9f3a"
            ],
            [
             0.8888888888888888,
             "#fdca26"
            ],
            [
             1,
             "#f0f921"
            ]
           ]
          },
          "colorway": [
           "#636efa",
           "#EF553B",
           "#00cc96",
           "#ab63fa",
           "#FFA15A",
           "#19d3f3",
           "#FF6692",
           "#B6E880",
           "#FF97FF",
           "#FECB52"
          ],
          "font": {
           "color": "#2a3f5f"
          },
          "geo": {
           "bgcolor": "white",
           "lakecolor": "white",
           "landcolor": "#E5ECF6",
           "showlakes": true,
           "showland": true,
           "subunitcolor": "white"
          },
          "hoverlabel": {
           "align": "left"
          },
          "hovermode": "closest",
          "mapbox": {
           "style": "light"
          },
          "paper_bgcolor": "white",
          "plot_bgcolor": "#E5ECF6",
          "polar": {
           "angularaxis": {
            "gridcolor": "white",
            "linecolor": "white",
            "ticks": ""
           },
           "bgcolor": "#E5ECF6",
           "radialaxis": {
            "gridcolor": "white",
            "linecolor": "white",
            "ticks": ""
           }
          },
          "scene": {
           "xaxis": {
            "backgroundcolor": "#E5ECF6",
            "gridcolor": "white",
            "gridwidth": 2,
            "linecolor": "white",
            "showbackground": true,
            "ticks": "",
            "zerolinecolor": "white"
           },
           "yaxis": {
            "backgroundcolor": "#E5ECF6",
            "gridcolor": "white",
            "gridwidth": 2,
            "linecolor": "white",
            "showbackground": true,
            "ticks": "",
            "zerolinecolor": "white"
           },
           "zaxis": {
            "backgroundcolor": "#E5ECF6",
            "gridcolor": "white",
            "gridwidth": 2,
            "linecolor": "white",
            "showbackground": true,
            "ticks": "",
            "zerolinecolor": "white"
           }
          },
          "shapedefaults": {
           "line": {
            "color": "#2a3f5f"
           }
          },
          "ternary": {
           "aaxis": {
            "gridcolor": "white",
            "linecolor": "white",
            "ticks": ""
           },
           "baxis": {
            "gridcolor": "white",
            "linecolor": "white",
            "ticks": ""
           },
           "bgcolor": "#E5ECF6",
           "caxis": {
            "gridcolor": "white",
            "linecolor": "white",
            "ticks": ""
           }
          },
          "title": {
           "x": 0.05
          },
          "xaxis": {
           "automargin": true,
           "gridcolor": "white",
           "linecolor": "white",
           "ticks": "",
           "title": {
            "standoff": 15
           },
           "zerolinecolor": "white",
           "zerolinewidth": 2
          },
          "yaxis": {
           "automargin": true,
           "gridcolor": "white",
           "linecolor": "white",
           "ticks": "",
           "title": {
            "standoff": 15
           },
           "zerolinecolor": "white",
           "zerolinewidth": 2
          }
         }
        },
        "title": {
         "text": "3D Scatter Plot - Color by Z Values"
        }
       }
      }
     },
     "metadata": {},
     "output_type": "display_data"
    },
    {
     "data": {
      "application/vnd.plotly.v1+json": {
       "config": {
        "plotlyServerURL": "https://plot.ly"
       },
       "data": [
        {
         "hovertemplate": "Cluster=Cluster 1<br>X=%{x}<br>Y=%{y}<br>Z=%{z}<br>Size=%{marker.size}<extra></extra>",
         "legendgroup": "Cluster 1",
         "marker": {
          "color": "#636efa",
          "opacity": 0.7,
          "size": {
           "bdata": "CAAAAAYAAAAHAAAABwAAAAgAAAAIAAAADgAAAAkAAAAIAAAADgAAAAwAAAAKAAAACgAAAAwAAAALAAAADgAAAA4AAAAMAAAABgAAAA0AAAAFAAAADAAAAAgAAAAIAAAACQAAAAwAAAAJAAAADAAAAA4AAAAFAAAADgAAAA0AAAAKAAAABwAAAAwAAAANAAAACgAAAAsAAAAFAAAACQAAAAkAAAAOAAAACAAAAAoAAAALAAAADQAAAAUAAAAKAAAACwAAAAcAAAAMAAAACQAAAA0AAAAJAAAADQAAAA4AAAAIAAAADQAAAAkAAAAOAAAADQAAAAcAAAAIAAAADQAAAA4AAAAKAAAABgAAAAsAAAAGAAAABgAAAAUAAAAHAAAACgAAAAwAAAANAAAACwAAAAgAAAAKAAAACQAAAAwAAAAFAAAABQAAAAoAAAAOAAAABgAAAAkAAAAFAAAACwAAAAUAAAAIAAAADQAAAAUAAAAIAAAACgAAAAoAAAAMAAAABQAAAAsAAAAFAAAACwAAAA==",
           "dtype": "i4"
          },
          "sizemode": "area",
          "sizeref": 0.035,
          "symbol": "circle"
         },
         "mode": "markers",
         "name": "Cluster 1",
         "scene": "scene",
         "showlegend": true,
         "type": "scatter3d",
         "x": {
          "bdata": "fDCpKCrK3z8qBd4FpbLBv2heJFDdueQ/K6oBjlRe+D9AplffvPjNvzvbcCYz+M2/CHRAqHRE+T/z1/BG047oP4ueeUveC96/fS1q4aZc4T9wG8Guoqjdv+fvFiuEzt2/cPmepZ74zj++Ne6+y5z+vxLk7nBDmfu/YzyhakL+4b95UaNnjjTwvx+GFtigHNQ/+QOLgYgO7b/HExTEy5j2v0ENnx9Mc/c/2Zhm4TzmzL/GNbFGh0mxP2InDcHEy/a/KPrKUZVr4b81BjE/bGW8PxX1zj14avK/6N19s28L2D/SOz2hbjjjv6DS80Icq9K/p/2pOS5B479X9hhz7qL9P4aDsNZupIu/RsyHS2Ls8L83Lh+1SVLqPxx64lmTiPO/tWnv0gq8yj/DMFAPz1r/v/9asANAQPW/QDr0vL8yyT++nUiqhKHnPwwupFVl78U/XzGyNiCbvb/hr1BvSEXTvwa4sKwGqPe/J6aouPYI57/ZriIKG3vdv2LC1/746fA/iEEAkdf91T9OFQ2YaTX8vzhYbbDKvdQ/QA8qJjCl2L9NOahTWKnlv/nsCSfakuM/1Pz0Wvl+8D8enOD2C83tP1MVD7Xe2uq/zylztCLK07+KTA+JazPVPwBoGGqqN+8/VWYobMqq3r8Tbn1grMPHvzBuPE2Ms/G/9PWajqkj87+w1UonNgDqP/3Ng74os/U/+iMrXUFvsr9qgA6DeA7wP0KkKG0LJdc/rwoBL9Kk5L+P6aQIGyHXPyBgEDvMm/g/UhmlZMpXor8x1znJxwj5P19fz+s89QTAv1gZewZN6j8hrkt3t0i2P8Dt4LnvItO/OIpGXqJ9tz/iHOwPFc3/v8FsDls1Hsy/04nor+7a1j8349E5dKX3PzA8v2yrleC/S3Lu+S3f6b+hdpfJZA7gv5AGx2H5Su0/gMUgGEIK1T/02ryry/PgvwNc6tKvbOA/OiugAxPauD9TvHjHI//uP3hIyAw4d+a/l5Lxpmr41L8apYzLTBjZvxD0dqaOave/IzBrdqLz0j8UgR0sIbXQPw06yBDZ8XQ/hE70gPMGzr8=",
          "dtype": "f8"
         },
         "y": {
          "bdata": "BCaNylul9r90hh9c2uvavws0Ft4I79W/fDE0YUGs6b/Ac3WcAqXEvzMc/B/429k/GwJ+RNEt/j+RJ1zWkFjGP517TqK0e9A/YFWJNeMOs7/tciNySbP+vzhGxw90Jpu/rRjbe37Wrj+4CNpHuLQDQOSGYbpIn8i/cjBhOY1M0z8IMle3vcWhv88R8r3nsvK/XG9XkwBJ8j9WfwXd1Q/oP9CD1DoiUOk//I03uLMZ7b80xIdy2HH2PxrkSGH7bfa/S4cph4jH4j9pi2GZDYYBQGn2PTx5su+/syyOahwf4r/knA16wIK5P29cmPl4HOC/2oM4dYTP+L/WI4LWV42xP6z3zS0y//C/LYVNoFZP3j+P4yVf7Gvtv8btxwSIzPg/3zBiNWkQ6b/G09nnp5zUv6+9akJVCOo/EVsOyJ6x879VNCM6aB3NP9OKTYUO6vQ/uPAUV0C4+b9xtRAQFaLHP87DhXHrodA/FIwxZrEE6T/Ywx/UjMrzvwa+Dx2XIPW/c+xXzL6z4D81ybwAzAHTP9yCByoTCNA/bQZjHDUs1j8B1nQ0w8Llv50+1zh9us0/Kj4LDLPB0j9/yEiB99vmv987sV822v0/4GTFUEdT3j9piIFBlA/zvwzmpLZ8AuU/U2I0nZcw779TSQgNzC/pPyEIkoSbifI/3Du3kAdD6r/tPhst+tPuP3e1ZrEAa9o/56rQG1FO6j/5fjyZQ1n+P92Zh7bgaM+/8kr3TZse6L+U+RH35nbsvwxYtSseG+q/vzZmCPC8s79JabMXb9XVP3p/jlNNtdE/chRNAUl46j/EwjZjvKCKPwoy0PKsQfc/auDaNiPw0L9MuFAN6MIFQKFsmod3BeQ/fngKr9Vt6799RAssYCLxv2JDLPvT4N4/Gn5stW2azL8Pgm6QF9nmPy3tMXaGSd4/qoMQZuqksr9D/LEj7xjrv/pkh3HQPPi/HGITc7OT3L8ogL5xnmfrPyehqH5sZ8s/3tQeyYvu87+mMWnmyirGP1UCIToKqdg/we3ZY49I7L9MGk6nQ63DP+ihInyIza0/47UXOZtJ8r8=",
          "dtype": "f8"
         },
         "z": {
          "bdata": "CI7n9Pzl1j9hVxtk8vHhP4JHVYotVPE/XSlfil/c8D8mOgEJ7wr2v2fFeaipAu6/gFSePSt74D+H/Qk873DgPwMUEklFe+A/BQ1F42TSDkC2wyAtvETiP3SXcOBGK/I/vPLQtC6H7j8SSSh3MtjkP9mNyg1fLdS/5g2W0XlJ6D9Y0b7x+7rovwAthHUSUM6/kS0mRTIQ378lag0ftPW0P9Im6rVrhAJATkByd1Hg/b+RkUbu1/XlP8j+Ryivzfm/TmBgtiE03r/F8w52V2zxP+gfzcOndLA/KULqTnE+8b9tVL+axOPmv0SCQ8dDv+U/qhKq1ylf57/pr5hB6rTLP3XHAjQxVac/V+/g+OjZ5L+V1qAozCYBQIFhpYsQSeQ/PXPb9H0zAMD8/hAovN3HP6yz485aLeW/PwrfRSJH6z8KDJ9zVFzpv/J+wg9eX72/N78DFdso4D+NsKk8RLTrP0v5XAFqNPO/JiQa33do1b9ayrQEgWXev4qY7bQS6OS/KngJ8kw//D8ljANpOOvZPwu5PqeULPS/D/uaBCBf7T9KYjkHLfoAQDcsBUv6hPA/AsGk4VZP+L+NcaTosP3ev/EbC6BERfQ/Frxmbzql5r8U602aiWfcP/QZu1rNyeg/yf+iF2qp7b9e6SKDG3quv0GEOZId7gnAUVGfS+Rj8L/Pqo+bEyrQvwSbcH/r9vO/Ch3AUFse+j/p9O/s2+H2v4WDyVmwKdy/JBracxu8wD93MpKUdA/3PxIUTpdK+fa/CF82mFGc8j/kN1YzEvWEP6y+n9SEaO+/1wlVcxqT3T9gSjjByXrJP83vPAb6NOO/zog5qIzesT/DbE5c+qjYv4oCYgV5D70/0uEXqyww5T9cAUQrU2D5P4YX358XzvO/xWZLzXMQAUB/6p1qwDv/v8NamamxbcO/jM8wm37T4j+DSpdQxfvRP8qoG4sn7eO/rl1t+b+jyr+ndNDKU43fvyyxj3oT3OK/rS+qvPAv6z/Pqhh7V9nWP9dUV75QLOa/aRaPrYXJ7D/XdA+cy6rTP1lCEmv3Auo/wsSVYusl5D8=",
          "dtype": "f8"
         }
        },
        {
         "hovertemplate": "Cluster=Cluster 2<br>X=%{x}<br>Y=%{y}<br>Z=%{z}<br>Size=%{marker.size}<extra></extra>",
         "legendgroup": "Cluster 2",
         "marker": {
          "color": "#EF553B",
          "opacity": 0.7,
          "size": {
           "bdata": "BwAAAAwAAAAHAAAABQAAAAwAAAAHAAAABgAAAAUAAAAHAAAABgAAAAYAAAAKAAAABQAAAAYAAAAKAAAABwAAAAgAAAAFAAAADAAAAAsAAAALAAAABwAAAA4AAAAOAAAABwAAAAYAAAAFAAAACwAAAAsAAAAGAAAACwAAAAwAAAAFAAAADQAAAAsAAAAHAAAADAAAAAsAAAAMAAAACgAAAA0AAAAJAAAABwAAAAcAAAAFAAAADAAAAAYAAAAHAAAADAAAAAwAAAAIAAAACAAAAAkAAAAKAAAACQAAAAsAAAAGAAAACwAAAA4AAAALAAAABQAAAAsAAAAJAAAABwAAAAcAAAAIAAAABgAAAAYAAAAFAAAACQAAAAgAAAAOAAAABgAAAAcAAAALAAAACwAAAAgAAAAJAAAACQAAAAoAAAANAAAABgAAAAkAAAAHAAAACAAAAA4AAAAKAAAADAAAAAUAAAAOAAAADAAAAAsAAAAFAAAABgAAAAcAAAAFAAAADQAAAAwAAAAGAAAADQAAAA==",
           "dtype": "i4"
          },
          "sizemode": "area",
          "sizeref": 0.035,
          "symbol": "circle"
         },
         "mode": "markers",
         "name": "Cluster 2",
         "scene": "scene",
         "showlegend": true,
         "type": "scatter3d",
         "x": {
          "bdata": "Hlcc3TdeAUA4HoTNv4QDQGId1BF1+g1AjOZDzgniDEDv6ouLMdUHQE3k0VZJ8AhAVqK6L1QcEUBDmz04dkQDQArSfpd0YAxAf3CS0ehhBkA1e3lbMEIGQBmMU8IlZRBAA+YD43OaDkAw1AxXEYIOQE9luW/POBFAeTnnDwQrCECl+WjCo3QNQDIp29yShAVANDZTh+SXCkCTg+2Od/UGQMjmC9KlxghAtOPBr+HCDEDKz+S2SHQBQNiKHsWaXhRABAV0UVrn/z/Wag72rpL8P5RMG9HnoRBAxEUgQFNVDkAyMtiHMv4MQEQHpwLaBg1AsCD5KevmB0DaM9JMbNIAQGajkms/mwhA452XPSyVAkA1tSWTC80PQNyAXpTT0gZAILHGuWFlAUCpn4VCzW0FQAXUnAGvTQtAoglO+319A0ADgZe2F2wBQFZ93kcS8wlAqDOcCLH1CUAKzsbGx/EDQP6l0URQOwRAT+tf/zzbCUBxtXaDpdT4P7L360MHe/k/ysPtUKBAAkBAyT843EoGQEmUEhu9fApAk/62x8PmEUDTBAamfNwOQH5+4yVyuAZATbbHBw7ZB0CAndnEo/X/Pyfu8sgV2gdAgwpRvdOwBUDhtvN37ZQKQN+gOb7UYQFA06gvJZ8nDEBTnEJPhiESQFQo+ltCIQdAqK2morQ2C0DkcI82aoUNQP8d1utMygRA4T3F//DKCUCYSWwLyhkIQOHxBmgKyAhAa9IWP+DQAUAw5OZjMjIIQJznMofm+wtA2x0Fl/jNEUDLV9AulqwPQApVtdzbnBRAHdiF4XjcAUDMuvI9g/oOQLwIdQN8dwlASms7s1vCFEDc5JfomogBQAfGMOo/SAFAC9fyoHE0A0BoNH/VCwnsPwtjgfNAywNAVGnq2kvtAUDPflOoATQJQFxnmY7quwpAfpCw7TKBE0B2yDLQd5oPQKblD1aAYgNAan8C+AvQAEC3Ko9Rc+8LQOEMDCVT4Po/lEQ97WlTE0BWWqgmv7cQQOsL8dUgPwRASoB+PwCX9D9I/geFXWoRQKpoNCJsFQdAgYaJHobzEEA=",
          "dtype": "f8"
         },
         "y": {
          "bdata": "3D5abDl99j+P/jLeejQDQKpldjW9CghAPCGOXDdgCECsgPcSRGYEQI/8zb6Y+wxAGyo01wbr/j+isgElaNwGQCNvYI5d9ghA+5iAG5IdDEAU6SUkY7ENQAWfPUt3Af4/9sMFs0R09z8vpRNQVxwRQKKjqz+UqApARPKffRkDAkDp+vcuYTQSQOAdmtLm7AhAr0ZXrpm3EECKQSwhR4oIQAisOrQ0PhRAsYHeEXgFE0BEP6MVHwIGQJm9oP3GxQ9Ax76o3bopDUD7fw+NenkRQIxSbTXWRwBA4odAjAh9DUDfN/Gg0zsQQO0P+vsz3PM/uDCWhV8R/T9sOfIonL7uPxTvxTpB2AVAQCJRy4a9DUBtqxbjaQISQGuoFQG/lwhAj/Eny7ODEkDR4by7Guv5P/c4Jg7yvvQ/vvcOAj2OB0A5vvXnkBILQLN6MYkKvQdAwJA+qoPX7T+p/sZue0kHQDY8y5bkIPs/JggCSH1bDUAuDq4Py+4KQJtrfE4gewBALVfcvZnjA0B3GEAfdg3/PyiN+BmifwdAgKAsqCGkD0A+Y6GpOx0AQMR+HopJCAxAihU1SwjCA0DmXtxJMqgBQE6HQkTNJAdAFGEcv6Vv/z9YpSBQIJIDQAOsq/191fw/RQW+5+DbE0DLrNNBOEgIQHj1F1D2ZgJA+9V0GTu2CUBCPGHA8xkHQLnBZEp0OwZAfNQXO9DpDEDc98gzYA8OQLQtRJ2IwQNAPu3/Z7lkA0D1MSCyscwFQKSx72ypVuY/xqZKBMfB9z86rFHjrXcRQAzbkWpylBJA06OUZPkBBkBD2KTlyZwMQI8dlbhwfQpAn2NyIcZQGEBpInjYcXoQQGAOgFcG+gZACu0MnQ1bAEBMbXvx/kv2P8DM74qxoAlA65ZlYf7yAUDpnOrkcj75P2mVfZjR0wJA28B2uPqx/j8xbYkOor8SQDicFyWZDQ9AVkIyCqzvB0AYwvF5dusRQEK/eEZznghAeN5VBxccAUBRfo7WrRcSQG/kqBGwTwxA80GUk3Bn/z97vBO3L3oGQGJ0b9u7/gBAAnOpYw3g+T8=",
          "dtype": "f8"
         },
         "z": {
          "bdata": "yoAnxs9oD0CUB6UdPqMTQCk2k5t3n/k/suvhA/aADEAD5KHoe8sCQPZuvQFeGgRAElxo+cZCA0BAb+EBjBYBQKpfqU5fYwhA8kFL0zZaAUCRoq1E5SkKQIY5F8McmQdAJSAKaKIWBkBc8kNDT70AQESCb7bFYgNAFNsUjgoLDkDfztbe4AEMQKJ0DIT3LQBA2QlavG7LCECJI4xA1wIOQDwGHbAdSvU/vsKBOs1YDEA0M45Q8rICQHf95QiWkAxAATgiYtjkAUBqKUjyMx/zPwgJhw+W9fU/bblKXHpiCEC7bhdk6RMKQGyUL6X1wwBAT17vXNYbDUDNgm7waWr1P24RjyereAdANoExeq2f/D81GpUmCskCQD1s+Y0SYQhAU4P4mN8dAUCiTJAkbuwEQJ0aR59xBhBA5474g4ZiA0B2wpZYf68OQCjbUoG47P0/RHEL+Qk9DEB8qYKQKsQRQEiuE8tJ6OA/elVbYfWfAUB6Y839150MQLS7mr0pYAZAqmbhUxv4CkD6S37QCSsDQNnoivxVsQhAGRMqSyzBBkDAvI4Pz6sQQBMyi8sNCQpAiD5FBmmzCkD3OWTZebQEQMBCcuhhGQRA5ZTN7h6KBEC80FqG1icLQAcHduPSoQRA3JXsenVRCkAHGfHdNU0UQIbQfzoQ+A5A2eY8xk1kBUCwxrwFC84QQDSOlPpCvARAoIwHDq/H7j8JCHHj4N7/P74qmX08EfI/OYTPshkwBUCZHQKJuCUIQOAQmPurtBJAvd9TGYydCkBE1tE4SD8GQHZssmSfog5ADPgYKmE+6T9hTaziieIJQCr06l67Kg5Abfbg8rVX+D9U94hCNJMQQBgEwJo9tQpA2Pm6h32tBEBAbWPw7w8NQGUfLoIwFRVAIceNS3Z0CUDE1CITW/wJQN5Ou5c6UwRA/auTy4QzAUA4CsYah6QOQOKx6IW9JgFALtfCUZGSCECrn7vuwS0EQD4y+F/z1AtAwvmwCVerCkB+hgPfcCYQQBz2s4V86wNAJD1Xz0vXBUDfoNHtfSsAQHgeEWAWcgRAdiPzHrYEC0A=",
          "dtype": "f8"
         }
        }
       ],
       "layout": {
        "legend": {
         "itemsizing": "constant",
         "title": {
          "text": "Cluster"
         },
         "tracegroupgap": 0
        },
        "scene": {
         "domain": {
          "x": [
           0,
           1
          ],
          "y": [
           0,
           1
          ]
         },
         "xaxis": {
          "title": {
           "text": "X"
          }
         },
         "yaxis": {
          "title": {
           "text": "Y"
          }
         },
         "zaxis": {
          "title": {
           "text": "Z"
          }
         }
        },
        "template": {
         "data": {
          "bar": [
           {
            "error_x": {
             "color": "#2a3f5f"
            },
            "error_y": {
             "color": "#2a3f5f"
            },
            "marker": {
             "line": {
              "color": "#E5ECF6",
              "width": 0.5
             },
             "pattern": {
              "fillmode": "overlay",
              "size": 10,
              "solidity": 0.2
             }
            },
            "type": "bar"
           }
          ],
          "barpolar": [
           {
            "marker": {
             "line": {
              "color": "#E5ECF6",
              "width": 0.5
             },
             "pattern": {
              "fillmode": "overlay",
              "size": 10,
              "solidity": 0.2
             }
            },
            "type": "barpolar"
           }
          ],
          "carpet": [
           {
            "aaxis": {
             "endlinecolor": "#2a3f5f",
             "gridcolor": "white",
             "linecolor": "white",
             "minorgridcolor": "white",
             "startlinecolor": "#2a3f5f"
            },
            "baxis": {
             "endlinecolor": "#2a3f5f",
             "gridcolor": "white",
             "linecolor": "white",
             "minorgridcolor": "white",
             "startlinecolor": "#2a3f5f"
            },
            "type": "carpet"
           }
          ],
          "choropleth": [
           {
            "colorbar": {
             "outlinewidth": 0,
             "ticks": ""
            },
            "type": "choropleth"
           }
          ],
          "contour": [
           {
            "colorbar": {
             "outlinewidth": 0,
             "ticks": ""
            },
            "colorscale": [
             [
              0,
              "#0d0887"
             ],
             [
              0.1111111111111111,
              "#46039f"
             ],
             [
              0.2222222222222222,
              "#7201a8"
             ],
             [
              0.3333333333333333,
              "#9c179e"
             ],
             [
              0.4444444444444444,
              "#bd3786"
             ],
             [
              0.5555555555555556,
              "#d8576b"
             ],
             [
              0.6666666666666666,
              "#ed7953"
             ],
             [
              0.7777777777777778,
              "#fb9f3a"
             ],
             [
              0.8888888888888888,
              "#fdca26"
             ],
             [
              1,
              "#f0f921"
             ]
            ],
            "type": "contour"
           }
          ],
          "contourcarpet": [
           {
            "colorbar": {
             "outlinewidth": 0,
             "ticks": ""
            },
            "type": "contourcarpet"
           }
          ],
          "heatmap": [
           {
            "colorbar": {
             "outlinewidth": 0,
             "ticks": ""
            },
            "colorscale": [
             [
              0,
              "#0d0887"
             ],
             [
              0.1111111111111111,
              "#46039f"
             ],
             [
              0.2222222222222222,
              "#7201a8"
             ],
             [
              0.3333333333333333,
              "#9c179e"
             ],
             [
              0.4444444444444444,
              "#bd3786"
             ],
             [
              0.5555555555555556,
              "#d8576b"
             ],
             [
              0.6666666666666666,
              "#ed7953"
             ],
             [
              0.7777777777777778,
              "#fb9f3a"
             ],
             [
              0.8888888888888888,
              "#fdca26"
             ],
             [
              1,
              "#f0f921"
             ]
            ],
            "type": "heatmap"
           }
          ],
          "histogram": [
           {
            "marker": {
             "pattern": {
              "fillmode": "overlay",
              "size": 10,
              "solidity": 0.2
             }
            },
            "type": "histogram"
           }
          ],
          "histogram2d": [
           {
            "colorbar": {
             "outlinewidth": 0,
             "ticks": ""
            },
            "colorscale": [
             [
              0,
              "#0d0887"
             ],
             [
              0.1111111111111111,
              "#46039f"
             ],
             [
              0.2222222222222222,
              "#7201a8"
             ],
             [
              0.3333333333333333,
              "#9c179e"
             ],
             [
              0.4444444444444444,
              "#bd3786"
             ],
             [
              0.5555555555555556,
              "#d8576b"
             ],
             [
              0.6666666666666666,
              "#ed7953"
             ],
             [
              0.7777777777777778,
              "#fb9f3a"
             ],
             [
              0.8888888888888888,
              "#fdca26"
             ],
             [
              1,
              "#f0f921"
             ]
            ],
            "type": "histogram2d"
           }
          ],
          "histogram2dcontour": [
           {
            "colorbar": {
             "outlinewidth": 0,
             "ticks": ""
            },
            "colorscale": [
             [
              0,
              "#0d0887"
             ],
             [
              0.1111111111111111,
              "#46039f"
             ],
             [
              0.2222222222222222,
              "#7201a8"
             ],
             [
              0.3333333333333333,
              "#9c179e"
             ],
             [
              0.4444444444444444,
              "#bd3786"
             ],
             [
              0.5555555555555556,
              "#d8576b"
             ],
             [
              0.6666666666666666,
              "#ed7953"
             ],
             [
              0.7777777777777778,
              "#fb9f3a"
             ],
             [
              0.8888888888888888,
              "#fdca26"
             ],
             [
              1,
              "#f0f921"
             ]
            ],
            "type": "histogram2dcontour"
           }
          ],
          "mesh3d": [
           {
            "colorbar": {
             "outlinewidth": 0,
             "ticks": ""
            },
            "type": "mesh3d"
           }
          ],
          "parcoords": [
           {
            "line": {
             "colorbar": {
              "outlinewidth": 0,
              "ticks": ""
             }
            },
            "type": "parcoords"
           }
          ],
          "pie": [
           {
            "automargin": true,
            "type": "pie"
           }
          ],
          "scatter": [
           {
            "fillpattern": {
             "fillmode": "overlay",
             "size": 10,
             "solidity": 0.2
            },
            "type": "scatter"
           }
          ],
          "scatter3d": [
           {
            "line": {
             "colorbar": {
              "outlinewidth": 0,
              "ticks": ""
             }
            },
            "marker": {
             "colorbar": {
              "outlinewidth": 0,
              "ticks": ""
             }
            },
            "type": "scatter3d"
           }
          ],
          "scattercarpet": [
           {
            "marker": {
             "colorbar": {
              "outlinewidth": 0,
              "ticks": ""
             }
            },
            "type": "scattercarpet"
           }
          ],
          "scattergeo": [
           {
            "marker": {
             "colorbar": {
              "outlinewidth": 0,
              "ticks": ""
             }
            },
            "type": "scattergeo"
           }
          ],
          "scattergl": [
           {
            "marker": {
             "colorbar": {
              "outlinewidth": 0,
              "ticks": ""
             }
            },
            "type": "scattergl"
           }
          ],
          "scattermap": [
           {
            "marker": {
             "colorbar": {
              "outlinewidth": 0,
              "ticks": ""
             }
            },
            "type": "scattermap"
           }
          ],
          "scattermapbox": [
           {
            "marker": {
             "colorbar": {
              "outlinewidth": 0,
              "ticks": ""
             }
            },
            "type": "scattermapbox"
           }
          ],
          "scatterpolar": [
           {
            "marker": {
             "colorbar": {
              "outlinewidth": 0,
              "ticks": ""
             }
            },
            "type": "scatterpolar"
           }
          ],
          "scatterpolargl": [
           {
            "marker": {
             "colorbar": {
              "outlinewidth": 0,
              "ticks": ""
             }
            },
            "type": "scatterpolargl"
           }
          ],
          "scatterternary": [
           {
            "marker": {
             "colorbar": {
              "outlinewidth": 0,
              "ticks": ""
             }
            },
            "type": "scatterternary"
           }
          ],
          "surface": [
           {
            "colorbar": {
             "outlinewidth": 0,
             "ticks": ""
            },
            "colorscale": [
             [
              0,
              "#0d0887"
             ],
             [
              0.1111111111111111,
              "#46039f"
             ],
             [
              0.2222222222222222,
              "#7201a8"
             ],
             [
              0.3333333333333333,
              "#9c179e"
             ],
             [
              0.4444444444444444,
              "#bd3786"
             ],
             [
              0.5555555555555556,
              "#d8576b"
             ],
             [
              0.6666666666666666,
              "#ed7953"
             ],
             [
              0.7777777777777778,
              "#fb9f3a"
             ],
             [
              0.8888888888888888,
              "#fdca26"
             ],
             [
              1,
              "#f0f921"
             ]
            ],
            "type": "surface"
           }
          ],
          "table": [
           {
            "cells": {
             "fill": {
              "color": "#EBF0F8"
             },
             "line": {
              "color": "white"
             }
            },
            "header": {
             "fill": {
              "color": "#C8D4E3"
             },
             "line": {
              "color": "white"
             }
            },
            "type": "table"
           }
          ]
         },
         "layout": {
          "annotationdefaults": {
           "arrowcolor": "#2a3f5f",
           "arrowhead": 0,
           "arrowwidth": 1
          },
          "autotypenumbers": "strict",
          "coloraxis": {
           "colorbar": {
            "outlinewidth": 0,
            "ticks": ""
           }
          },
          "colorscale": {
           "diverging": [
            [
             0,
             "#8e0152"
            ],
            [
             0.1,
             "#c51b7d"
            ],
            [
             0.2,
             "#de77ae"
            ],
            [
             0.3,
             "#f1b6da"
            ],
            [
             0.4,
             "#fde0ef"
            ],
            [
             0.5,
             "#f7f7f7"
            ],
            [
             0.6,
             "#e6f5d0"
            ],
            [
             0.7,
             "#b8e186"
            ],
            [
             0.8,
             "#7fbc41"
            ],
            [
             0.9,
             "#4d9221"
            ],
            [
             1,
             "#276419"
            ]
           ],
           "sequential": [
            [
             0,
             "#0d0887"
            ],
            [
             0.1111111111111111,
             "#46039f"
            ],
            [
             0.2222222222222222,
             "#7201a8"
            ],
            [
             0.3333333333333333,
             "#9c179e"
            ],
            [
             0.4444444444444444,
             "#bd3786"
            ],
            [
             0.5555555555555556,
             "#d8576b"
            ],
            [
             0.6666666666666666,
             "#ed7953"
            ],
            [
             0.7777777777777778,
             "#fb9f3a"
            ],
            [
             0.8888888888888888,
             "#fdca26"
            ],
            [
             1,
             "#f0f921"
            ]
           ],
           "sequentialminus": [
            [
             0,
             "#0d0887"
            ],
            [
             0.1111111111111111,
             "#46039f"
            ],
            [
             0.2222222222222222,
             "#7201a8"
            ],
            [
             0.3333333333333333,
             "#9c179e"
            ],
            [
             0.4444444444444444,
             "#bd3786"
            ],
            [
             0.5555555555555556,
             "#d8576b"
            ],
            [
             0.6666666666666666,
             "#ed7953"
            ],
            [
             0.7777777777777778,
             "#fb9f3a"
            ],
            [
             0.8888888888888888,
             "#fdca26"
            ],
            [
             1,
             "#f0f921"
            ]
           ]
          },
          "colorway": [
           "#636efa",
           "#EF553B",
           "#00cc96",
           "#ab63fa",
           "#FFA15A",
           "#19d3f3",
           "#FF6692",
           "#B6E880",
           "#FF97FF",
           "#FECB52"
          ],
          "font": {
           "color": "#2a3f5f"
          },
          "geo": {
           "bgcolor": "white",
           "lakecolor": "white",
           "landcolor": "#E5ECF6",
           "showlakes": true,
           "showland": true,
           "subunitcolor": "white"
          },
          "hoverlabel": {
           "align": "left"
          },
          "hovermode": "closest",
          "mapbox": {
           "style": "light"
          },
          "paper_bgcolor": "white",
          "plot_bgcolor": "#E5ECF6",
          "polar": {
           "angularaxis": {
            "gridcolor": "white",
            "linecolor": "white",
            "ticks": ""
           },
           "bgcolor": "#E5ECF6",
           "radialaxis": {
            "gridcolor": "white",
            "linecolor": "white",
            "ticks": ""
           }
          },
          "scene": {
           "xaxis": {
            "backgroundcolor": "#E5ECF6",
            "gridcolor": "white",
            "gridwidth": 2,
            "linecolor": "white",
            "showbackground": true,
            "ticks": "",
            "zerolinecolor": "white"
           },
           "yaxis": {
            "backgroundcolor": "#E5ECF6",
            "gridcolor": "white",
            "gridwidth": 2,
            "linecolor": "white",
            "showbackground": true,
            "ticks": "",
            "zerolinecolor": "white"
           },
           "zaxis": {
            "backgroundcolor": "#E5ECF6",
            "gridcolor": "white",
            "gridwidth": 2,
            "linecolor": "white",
            "showbackground": true,
            "ticks": "",
            "zerolinecolor": "white"
           }
          },
          "shapedefaults": {
           "line": {
            "color": "#2a3f5f"
           }
          },
          "ternary": {
           "aaxis": {
            "gridcolor": "white",
            "linecolor": "white",
            "ticks": ""
           },
           "baxis": {
            "gridcolor": "white",
            "linecolor": "white",
            "ticks": ""
           },
           "bgcolor": "#E5ECF6",
           "caxis": {
            "gridcolor": "white",
            "linecolor": "white",
            "ticks": ""
           }
          },
          "title": {
           "x": 0.05
          },
          "xaxis": {
           "automargin": true,
           "gridcolor": "white",
           "linecolor": "white",
           "ticks": "",
           "title": {
            "standoff": 15
           },
           "zerolinecolor": "white",
           "zerolinewidth": 2
          },
          "yaxis": {
           "automargin": true,
           "gridcolor": "white",
           "linecolor": "white",
           "ticks": "",
           "title": {
            "standoff": 15
           },
           "zerolinecolor": "white",
           "zerolinewidth": 2
          }
         }
        },
        "title": {
         "text": "3D Scatter Plot - Colored by Clusters"
        }
       }
      }
     },
     "metadata": {},
     "output_type": "display_data"
    }
   ],
   "source": [
    "import plotly.graph_objects as go\n",
    "import plotly.express as px\n",
    "import numpy as np\n",
    "import pandas as pd\n",
    "\n",
    "# Generate sample 3D data\n",
    "np.random.seed(42)\n",
    "n_points = 200\n",
    "\n",
    "# Create different clusters of data\n",
    "x1 = np.random.normal(0, 1, n_points//2)\n",
    "y1 = np.random.normal(0, 1, n_points//2)\n",
    "z1 = np.random.normal(0, 1, n_points//2)\n",
    "\n",
    "x2 = np.random.normal(3, 1, n_points//2)\n",
    "y2 = np.random.normal(3, 1, n_points//2)\n",
    "z2 = np.random.normal(3, 1, n_points//2)\n",
    "\n",
    "# Combine data\n",
    "x = np.concatenate([x1, x2])\n",
    "y = np.concatenate([y1, y2])\n",
    "z = np.concatenate([z1, z2])\n",
    "colors = ['Cluster 1'] * (n_points//2) + ['Cluster 2'] * (n_points//2)\n",
    "sizes = np.random.randint(5, 15, n_points)\n",
    "\n",
    "# Method 1: Using graph_objects\n",
    "fig1 = go.Figure(data=[go.Scatter3d(\n",
    "    x=x,\n",
    "    y=y,\n",
    "    z=z,\n",
    "    mode='markers',\n",
    "    marker=dict(\n",
    "        size=sizes,\n",
    "        color=z,\n",
    "        colorscale='Viridis',\n",
    "        opacity=0.8\n",
    "    )\n",
    ")])\n",
    "\n",
    "fig1.update_layout(\n",
    "    title='3D Scatter Plot - Color by Z Values',\n",
    "    scene=dict(\n",
    "        xaxis_title='X Axis',\n",
    "        yaxis_title='Y Axis',\n",
    "        zaxis_title='Z Axis'\n",
    "    )\n",
    ")\n",
    "\n",
    "fig1.show()\n",
    "\n",
    "# Method 2: Using express\n",
    "df = pd.DataFrame({\n",
    "    'X': x,\n",
    "    'Y': y,\n",
    "    'Z': z,\n",
    "    'Cluster': colors,\n",
    "    'Size': sizes\n",
    "})\n",
    "\n",
    "fig2 = px.scatter_3d(df, x='X', y='Y', z='Z', \n",
    "                     color='Cluster',\n",
    "                     size='Size',\n",
    "                     title='3D Scatter Plot - Colored by Clusters',\n",
    "                     opacity=0.7)\n",
    "\n",
    "fig2.show()"
   ]
  }
 ],
 "metadata": {
  "kernelspec": {
   "display_name": "Python 3",
   "language": "python",
   "name": "python3"
  },
  "language_info": {
   "codemirror_mode": {
    "name": "ipython",
    "version": 3
   },
   "file_extension": ".py",
   "mimetype": "text/x-python",
   "name": "python",
   "nbconvert_exporter": "python",
   "pygments_lexer": "ipython3",
   "version": "3.13.5"
  }
 },
 "nbformat": 4,
 "nbformat_minor": 4
}
