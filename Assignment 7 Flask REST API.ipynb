{
 "cells": [
  {
   "cell_type": "markdown",
   "id": "93f2058a",
   "metadata": {},
   "source": [
    "### Q.1: What is a RESTful API\n",
    "\n",
    "**Answer:** A RESTful API is an API that follows REST (Representational State Transfer) principles, using HTTP methods for communication."
   ]
  },
  {
   "cell_type": "markdown",
   "id": "3fcdc157",
   "metadata": {},
   "source": [
    "### Q.2: Explain the concept of API specification\n",
    "\n",
    "**Answer:** An API specification defines how an API works, including endpoints, request/response formats, and authentication."
   ]
  },
  {
   "cell_type": "markdown",
   "id": "809ec3ee",
   "metadata": {},
   "source": [
    "### Q.3: What is Flask, and why is it popular for building APIs\n",
    "\n",
    "**Answer:** Flask is a lightweight Python web framework. It's popular because it's simple, flexible, and good for rapid API development."
   ]
  },
  {
   "cell_type": "markdown",
   "id": "bf4274aa",
   "metadata": {},
   "source": [
    "### Q.4: What is routing in Flask\n",
    "\n",
    "**Answer:** Routing maps URLs to specific functions in Flask applications using @app.route()."
   ]
  },
  {
   "cell_type": "markdown",
   "id": "74c22cdd",
   "metadata": {},
   "source": [
    "### Q.5: How do you create a simple Flask application"
   ]
  },
  {
   "cell_type": "code",
   "execution_count": null,
   "id": "ce7c7ee3",
   "metadata": {},
   "outputs": [],
   "source": [
    "from flask import Flask\n",
    "\n",
    "app = Flask(__name__)\n",
    "\n",
    "@app.route('/')\n",
    "def home():\n",
    "    return \"Hello, Flask!\"\n",
    "\n",
    "if __name__ == '__main__':\n",
    "    app.run(debug=True)\n"
   ]
  },
  {
   "cell_type": "markdown",
   "id": "cd2aeae1",
   "metadata": {},
   "source": [
    "### Q.6: What are HTTP methods used in RESTful APIs\n",
    "\n",
    "**Answer:** Common HTTP methods are GET (retrieve), POST (create), PUT/PATCH (update), and DELETE (remove)."
   ]
  },
  {
   "cell_type": "markdown",
   "id": "bd2c3b0e",
   "metadata": {},
   "source": [
    "### Q.7: What is the purpose of the @app.route() decorator in Flask\n",
    "\n",
    "**Answer:** It is used to define URL routes and map them to functions in Flask."
   ]
  },
  {
   "cell_type": "markdown",
   "id": "6f571e4e",
   "metadata": {},
   "source": [
    "### Q.8: What is the difference between GET and POST HTTP methods\n",
    "\n",
    "**Answer:** GET retrieves data from the server, while POST sends data to the server for processing."
   ]
  },
  {
   "cell_type": "markdown",
   "id": "c05db390",
   "metadata": {},
   "source": [
    "### Q.9: How do you handle errors in Flask APIs\n",
    "\n",
    "**Answer:** Errors can be handled using @app.errorhandler decorators and returning proper HTTP status codes."
   ]
  },
  {
   "cell_type": "markdown",
   "id": "8e2cec0a",
   "metadata": {},
   "source": [
    "### Q.10: How do you connect Flask to a SQL database\n",
    "\n",
    "**Answer:** Flask can connect to SQL databases using extensions like Flask-SQLAlchemy."
   ]
  },
  {
   "cell_type": "markdown",
   "id": "01f4b177",
   "metadata": {},
   "source": [
    "### Q.11: What is the role of Flask-SQLAlchemy\n",
    "\n",
    "**Answer:** It provides an ORM (Object Relational Mapping) to interact with databases easily."
   ]
  },
  {
   "cell_type": "markdown",
   "id": "05a1a1a9",
   "metadata": {},
   "source": [
    "### Q.12: What are Flask blueprints, and how are they useful\n",
    "\n",
    "**Answer:** Blueprints allow modularizing Flask apps into smaller, reusable components."
   ]
  },
  {
   "cell_type": "markdown",
   "id": "f906356a",
   "metadata": {},
   "source": [
    "### Q.13: What is the purpose of Flask's request object\n",
    "\n",
    "**Answer:** The request object stores incoming request data like form fields, JSON, and headers."
   ]
  },
  {
   "cell_type": "markdown",
   "id": "841f700c",
   "metadata": {},
   "source": [
    "### Q.14: How do you create a RESTful API endpoint using Flask\n",
    "```\n",
    "from flask import Flask, request, jsonify\n",
    "\n",
    "app = Flask(__name__)\n",
    "\n",
    "# Sample data\n",
    "books = [\n",
    "    {\"id\": 1, \"title\": \"Python Basics\", \"author\": \"John Doe\"},\n",
    "    {\"id\": 2, \"title\": \"Flask Guide\", \"author\": \"Jane Smith\"}\n",
    "]\n",
    "\n",
    "# GET all books\n",
    "@app.route('/books', methods=['GET'])\n",
    "def get_books():\n",
    "    return jsonify(books)\n",
    "\n",
    "# GET single book\n",
    "@app.route('/books/<int:book_id>', methods=['GET'])\n",
    "def get_book(book_id):\n",
    "    book = next((b for b in books if b['id'] == book_id), None)\n",
    "    return jsonify(book) if book else ('Not found', 404)\n",
    "\n",
    "# POST create book\n",
    "@app.route('/books', methods=['POST'])\n",
    "def create_book():\n",
    "    new_book = {\n",
    "        \"id\": len(books) + 1,\n",
    "        \"title\": request.json['title'],\n",
    "        \"author\": request.json['author']\n",
    "    }\n",
    "    books.append(new_book)\n",
    "    return jsonify(new_book), 201\n",
    "\n",
    "if __name__ == '__main__':\n",
    "    app.run(debug=True)\n",
    "```\n",
    "\n",
    "- Use @app.route() with appropriate HTTP methods\n",
    "- Return jsonify() for JSON responses\n",
    "- Use proper status codes (201 for created, 404 for not found)\n",
    "- Access JSON data with request.json\n",
    "\n"
   ]
  },
  {
   "cell_type": "markdown",
   "id": "f8eb9992",
   "metadata": {},
   "source": [
    "### Q.15: What is the purpose of Flask's jsonify() function\n",
    "\n",
    "**Answer:** It converts Python dictionaries into JSON responses."
   ]
  },
  {
   "cell_type": "markdown",
   "id": "f2fbb696",
   "metadata": {},
   "source": [
    "### Q.16: Explain Flask’s url_for() function\n",
    "\n",
    "**Answer:** url_for() generates URLs dynamically for routes, avoiding hardcoding paths."
   ]
  },
  {
   "cell_type": "markdown",
   "id": "d1dd9889",
   "metadata": {},
   "source": [
    "### Q.17: How does Flask handle static files (CSS, JavaScript, etc.)\n",
    "\n",
    "**Answer:** Flask serves static files from a 'static' directory automatically."
   ]
  },
  {
   "cell_type": "markdown",
   "id": "6f17f0a9",
   "metadata": {},
   "source": [
    "### Q.18: What is an API specification, and how does it help in building a Flask API\n",
    "\n",
    "**Answer:** It defines how the API behaves, helping in consistent API development and integration."
   ]
  },
  {
   "cell_type": "markdown",
   "id": "6759061e",
   "metadata": {},
   "source": [
    "### Q.19: What are HTTP status codes, and why are they important in a Flask API\n",
    "\n",
    "**Answer:** Status codes indicate the result of HTTP requests (200=success, 404=not found, 500=server error)."
   ]
  },
  {
   "cell_type": "markdown",
   "id": "5f2057e4",
   "metadata": {},
   "source": [
    "### Q.20: How do you handle POST requests in Flask"
   ]
  },
  {
   "cell_type": "markdown",
   "id": "5baf9e1b",
   "metadata": {},
   "source": [
    "### Q.21: How would you secure a Flask API\n",
    "\n",
    "**Answer:** By using authentication (JWT, OAuth), HTTPS, rate limiting, and input validation."
   ]
  },
  {
   "cell_type": "markdown",
   "id": "8d54b1f8",
   "metadata": {},
   "source": [
    "### Q22: What is the significance of the Flask-RESTful extension\n",
    "\n",
    "**Answer:** It simplifies building REST APIs by providing tools for routing, request parsing, and response formatting."
   ]
  },
  {
   "cell_type": "markdown",
   "id": "4e8b4e9d",
   "metadata": {},
   "source": [
    "### Q.23: What is the role of Flask’s session object?\n",
    "\n",
    "**Answer:** The session object stores user-specific data across requests securely."
   ]
  },
  {
   "cell_type": "markdown",
   "id": "92513c93",
   "metadata": {},
   "source": [
    "## Practical Questions"
   ]
  },
  {
   "cell_type": "markdown",
   "id": "f81f1f76",
   "metadata": {},
   "source": [
    "### Q.1: How do you create a basic Flask application"
   ]
  },
  {
   "cell_type": "code",
   "execution_count": null,
   "id": "9a995fdf",
   "metadata": {},
   "outputs": [],
   "source": [
    "from flask import Flask\n",
    "\n",
    "app = Flask(__name__)\n",
    "\n",
    "@app.route('/')\n",
    "def index():\n",
    "    return \"Welcome to Basic Flask App!\"\n",
    "\n",
    "if __name__ == \"__main__\":\n",
    "    app.run(debug=True)\n"
   ]
  },
  {
   "cell_type": "markdown",
   "id": "20ae1693",
   "metadata": {},
   "source": [
    "### Q.2: How do you serve static files like images or CSS in Flask"
   ]
  },
  {
   "cell_type": "code",
   "execution_count": null,
   "id": "94e2de6e",
   "metadata": {},
   "outputs": [],
   "source": [
    "# Flask automatically serves files from a folder named 'static'\n",
    "# Example: put style.css in 'static' folder and access via /static/style.css\n",
    "\n",
    "from flask import Flask\n",
    "\n",
    "app = Flask(__name__)\n",
    "\n",
    "@app.route('/')\n",
    "def index():\n",
    "    return '<link rel=\"stylesheet\" href=\"/static/style.css\"><h1>Static File Example</h1>'\n",
    "\n",
    "if __name__ == \"__main__\":\n",
    "    app.run(debug=True)\n"
   ]
  },
  {
   "cell_type": "markdown",
   "id": "81c25bd8",
   "metadata": {},
   "source": [
    "### Q.3: How do you define different routes with different HTTP methods in Flask"
   ]
  },
  {
   "cell_type": "code",
   "execution_count": null,
   "id": "9bc93d0b",
   "metadata": {},
   "outputs": [],
   "source": [
    "from flask import Flask, request\n",
    "\n",
    "app = Flask(__name__)\n",
    "\n",
    "@app.route('/data', methods=['GET', 'POST'])\n",
    "def handle_data():\n",
    "    if request.method == 'GET':\n",
    "        return \"This is a GET request\"\n",
    "    elif request.method == 'POST':\n",
    "        return \"This is a POST request\"\n",
    "\n",
    "if __name__ == \"__main__\":\n",
    "    app.run(debug=True)\n"
   ]
  },
  {
   "cell_type": "markdown",
   "id": "a065e4eb",
   "metadata": {},
   "source": [
    "### Q.4: How do you render HTML templates in Flask"
   ]
  },
  {
   "cell_type": "code",
   "execution_count": null,
   "id": "ce33a6b6",
   "metadata": {},
   "outputs": [],
   "source": [
    "from flask import Flask, render_template\n",
    "\n",
    "app = Flask(__name__)\n",
    "\n",
    "@app.route('/')\n",
    "def index():\n",
    "    return render_template('index.html')  # index.html should be in 'templates' folder\n",
    "\n",
    "if __name__ == \"__main__\":\n",
    "    app.run(debug=True)\n"
   ]
  },
  {
   "cell_type": "markdown",
   "id": "f495de05",
   "metadata": {},
   "source": [
    "### Q.5: How can you generate URLs for routes in Flask using url_for"
   ]
  },
  {
   "cell_type": "code",
   "execution_count": null,
   "id": "d1ca6f49",
   "metadata": {},
   "outputs": [],
   "source": [
    "from flask import Flask, url_for\n",
    "\n",
    "app = Flask(__name__)\n",
    "\n",
    "@app.route('/')\n",
    "def index():\n",
    "    return f\"Go to {url_for('about')}\"\n",
    "\n",
    "@app.route('/about')\n",
    "def about():\n",
    "    return \"This is About Page\"\n",
    "\n",
    "if __name__ == \"__main__\":\n",
    "    app.run(debug=True)\n"
   ]
  },
  {
   "cell_type": "markdown",
   "id": "153f9e38",
   "metadata": {},
   "source": [
    "### Q.6: How do you handle forms in Flask"
   ]
  },
  {
   "cell_type": "code",
   "execution_count": null,
   "id": "6af90227",
   "metadata": {},
   "outputs": [],
   "source": [
    "from flask import Flask, request, render_template\n",
    "\n",
    "app = Flask(__name__)\n",
    "\n",
    "@app.route('/', methods=['GET', 'POST'])\n",
    "def form_example():\n",
    "    if request.method == 'POST':\n",
    "        name = request.form['name']\n",
    "        return f\"Hello {name}!\"\n",
    "    return render_template('form.html')  # form.html contains a simple form\n",
    "\n",
    "if __name__ == \"__main__\":\n",
    "    app.run(debug=True)\n"
   ]
  },
  {
   "cell_type": "markdown",
   "id": "ce8eff83",
   "metadata": {},
   "source": [
    "### Q.7: How can you validate form data in Flask"
   ]
  },
  {
   "cell_type": "code",
   "execution_count": null,
   "id": "1bd44fae",
   "metadata": {},
   "outputs": [],
   "source": [
    "from flask import Flask, request\n",
    "\n",
    "app = Flask(__name__)\n",
    "\n",
    "@app.route('/submit', methods=['POST'])\n",
    "def submit():\n",
    "    name = request.form.get('name')\n",
    "    if not name:\n",
    "        return \"Name is required!\", 400\n",
    "    return f\"Hello {name}!\"\n",
    "\n",
    "if __name__ == \"__main__\":\n",
    "    app.run(debug=True)\n"
   ]
  },
  {
   "cell_type": "markdown",
   "id": "73ee71fd",
   "metadata": {},
   "source": [
    "### Q.8: How do you manage sessions in Flask"
   ]
  },
  {
   "cell_type": "code",
   "execution_count": null,
   "id": "27a6eede",
   "metadata": {},
   "outputs": [],
   "source": [
    "from flask import Flask, session\n",
    "\n",
    "app = Flask(__name__)\n",
    "app.secret_key = \"secret123\"  # Required for sessions\n",
    "\n",
    "@app.route('/set/')\n",
    "def set_session():\n",
    "    session['user'] = 'Satish'\n",
    "    return \"Session set!\"\n",
    "\n",
    "@app.route('/get/')\n",
    "def get_session():\n",
    "    return f\"User: {session.get('user')}\"\n",
    "\n",
    "if __name__ == \"__main__\":\n",
    "    app.run(debug=True)\n"
   ]
  },
  {
   "cell_type": "markdown",
   "id": "fc07c70a",
   "metadata": {},
   "source": [
    "### Q.9: How do you redirect to a different route in Flask"
   ]
  },
  {
   "cell_type": "code",
   "execution_count": null,
   "id": "b3ad6eb7",
   "metadata": {},
   "outputs": [],
   "source": [
    "from flask import Flask, redirect, url_for\n",
    "\n",
    "app = Flask(__name__)\n",
    "\n",
    "@app.route('/')\n",
    "def home():\n",
    "    return redirect(url_for('welcome'))\n",
    "\n",
    "@app.route('/welcome')\n",
    "def welcome():\n",
    "    return \"Welcome Page!\"\n",
    "\n",
    "if __name__ == \"__main__\":\n",
    "    app.run(debug=True)\n"
   ]
  },
  {
   "cell_type": "markdown",
   "id": "9dd694e3",
   "metadata": {},
   "source": [
    "### Q.10: How do you handle errors in Flask (e.g., 404)"
   ]
  },
  {
   "cell_type": "code",
   "execution_count": null,
   "id": "b8c73bdc",
   "metadata": {},
   "outputs": [],
   "source": [
    "from flask import Flask\n",
    "\n",
    "app = Flask(__name__)\n",
    "\n",
    "@app.errorhandler(404)\n",
    "def page_not_found(e):\n",
    "    return \"Page not found!\", 404\n",
    "\n",
    "if __name__ == \"__main__\":\n",
    "    app.run(debug=True)\n"
   ]
  },
  {
   "cell_type": "markdown",
   "id": "566f54fd",
   "metadata": {},
   "source": [
    "### Q.11: How do you structure a Flask app using Blueprints"
   ]
  },
  {
   "cell_type": "code",
   "execution_count": null,
   "id": "2f90c9b7",
   "metadata": {},
   "outputs": [],
   "source": [
    "from flask import Flask, Blueprint\n",
    "\n",
    "app = Flask(__name__)\n",
    "\n",
    "# Create blueprint\n",
    "my_bp = Blueprint('my_bp', __name__)\n",
    "\n",
    "@my_bp.route('/hello')\n",
    "def hello():\n",
    "    return \"Hello from Blueprint!\"\n",
    "\n",
    "# Register blueprint\n",
    "app.register_blueprint(my_bp, url_prefix=\"/bp\")\n",
    "\n",
    "if __name__ == \"__main__\":\n",
    "    app.run(debug=True)\n"
   ]
  },
  {
   "cell_type": "markdown",
   "id": "6fdedf8c",
   "metadata": {},
   "source": [
    "### Q.12: How do you define a custom Jinja filter in Flask"
   ]
  },
  {
   "cell_type": "code",
   "execution_count": null,
   "id": "131c140e",
   "metadata": {},
   "outputs": [],
   "source": [
    "from flask import Flask\n",
    "\n",
    "app = Flask(__name__)\n",
    "\n",
    "def reverse_string(s):\n",
    "    return s[::-1]\n",
    "\n",
    "app.jinja_env.filters['reverse'] = reverse_string\n",
    "\n",
    "@app.route('/')\n",
    "def index():\n",
    "    return \"{{ 'Hello' | reverse }}\"\n",
    "\n",
    "if __name__ == \"__main__\":\n",
    "    app.run(debug=True)\n"
   ]
  },
  {
   "cell_type": "markdown",
   "id": "fa6510b5",
   "metadata": {},
   "source": [
    "### Q.13: How can you redirect with query parameters in Flask"
   ]
  },
  {
   "cell_type": "code",
   "execution_count": null,
   "id": "e9a9e44f",
   "metadata": {},
   "outputs": [],
   "source": [
    "from flask import Flask, redirect, url_for\n",
    "\n",
    "app = Flask(__name__)\n",
    "\n",
    "@app.route('/')\n",
    "def home():\n",
    "    return redirect(url_for('profile', name='Satish'))\n",
    "\n",
    "@app.route('/profile/<name>')\n",
    "def profile(name):\n",
    "    return f\"Hello {name}!\"\n",
    "\n",
    "if __name__ == \"__main__\":\n",
    "    app.run(debug=True)\n"
   ]
  },
  {
   "cell_type": "markdown",
   "id": "c4f97dc9",
   "metadata": {},
   "source": [
    "### Q.14: How do you return JSON responses in Flask"
   ]
  },
  {
   "cell_type": "code",
   "execution_count": null,
   "id": "d116405d",
   "metadata": {},
   "outputs": [],
   "source": [
    "from flask import Flask, jsonify\n",
    "\n",
    "app = Flask(__name__)\n",
    "\n",
    "@app.route('/json')\n",
    "def json_example():\n",
    "    return jsonify({\"message\": \"Hello, JSON!\"})\n",
    "\n",
    "if __name__ == \"__main__\":\n",
    "    app.run(debug=True)\n"
   ]
  },
  {
   "cell_type": "markdown",
   "id": "deeaeeec",
   "metadata": {},
   "source": [
    "### Q.15: How do you capture URL parameters in Flask?"
   ]
  },
  {
   "cell_type": "code",
   "execution_count": null,
   "id": "0b28d8bb",
   "metadata": {},
   "outputs": [],
   "source": [
    "from flask import Flask\n",
    "\n",
    "app = Flask(__name__)\n",
    "\n",
    "@app.route('/user/<username>')\n",
    "def user_profile(username):\n",
    "    return f\"Hello {username}!\"\n",
    "\n",
    "if __name__ == \"__main__\":\n",
    "    app.run(debug=True)\n"
   ]
  }
 ],
 "metadata": {
  "language_info": {
   "name": "python"
  }
 },
 "nbformat": 4,
 "nbformat_minor": 5
}
