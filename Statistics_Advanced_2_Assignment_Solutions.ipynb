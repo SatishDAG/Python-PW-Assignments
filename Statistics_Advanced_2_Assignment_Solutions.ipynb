{
 "cells": [
  {
   "cell_type": "markdown",
   "id": "57905057",
   "metadata": {},
   "source": [
    "## Question 1: What is hypothesis testing in statistics?\n",
    "\n",
    "**Answer:**\n",
    "Hypothesis testing is a fundamental statistical procedure used to infer the validity of a claim or assumption about a population based on sample data. It begins with formulating two mutually exclusive hypotheses\u00015a null hypothesis (H0), which represents a default position or no effect, and an alternative hypothesis (H1), indicating the presence of an effect or difference. The goal is to assess whether the observed sample data provides sufficient evidence to reject the null hypothesis in favor of the alternative.\n",
    "\n",
    "The process involves calculating a test statistic from sample data and comparing it against a critical value determined by a chosen significance level (alpha), which reflects the risk of incorrectly rejecting a true null hypothesis (Type I error). Depending on the test statistic\u00019s value and the critical region, the null hypothesis is either rejected or not rejected. Rejecting H0 suggests the sample evidence supports the alternative hypothesis, whereas failing to reject implies insufficient evidence to conclude an effect.\n",
    "\n",
    "Hypothesis testing is widely used in various scientific disciplines and business applications to make objective decisions under uncertainty. It provides a structured framework to quantify the likelihood that observed differences or relationships in data arose by chance. By quantifying this likelihood through p-values or confidence intervals, hypothesis testing guides decision-making and helps avoid subjective biases. For example, clinical trials use hypothesis testing to determine if a new drug is more effective than a placebo.\n",
    "\n",
    "Overall, hypothesis testing is a key method to validate assumptions, verify theories, and support conclusions drawn from empirical data, playing a vital role in the scientific method."
   ]
  },
  {
   "cell_type": "markdown",
   "id": "5944e5ba",
   "metadata": {},
   "source": [
    "## Question 2: What is the null hypothesis, and how does it differ from the alternative hypothesis?\n",
    "\n",
    "**Answer:**\n",
    "The null hypothesis, denoted as H0, is a statement that there is no effect, difference, or relationship in the population or process being studied. It serves as a baseline or benchmark representing the status quo or default assumption. In contrast, the alternative hypothesis, denoted as H1 or Ha, represents a new claim, effect, or difference that contradicts the null hypothesis and reflects what the researcher seeks to prove.\n",
    "\n",
    "The null hypothesis assumes that any observed differences in the sample data are due to random variation or chance. Testing the null hypothesis involves evaluating how consistent the sample results are with this assumption. If the data are very unlikely under the null hypothesis\u00015a measured using a test statistic and significance level\u00015a then H0 is rejected, providing support for the alternative hypothesis.\n",
    "\n",
    "For example, if a pharmaceutical company wants to know if a new medication lowers blood pressure more than an existing drug, the null hypothesis might state that there is no difference in effectiveness between the two drugs. The alternative hypothesis would claim that the new drug is more effective. Hypothesis testing will then analyze clinical trial data to either reject the null or fail to reject it.\n",
    "\n",
    "Thus, the null hypothesis functions as a skeptical position requiring strong evidence to oppose it, while the alternative hypothesis represents the perspective to be accepted if the evidence is sufficient. This framework ensures prudent decision-making by controlling the risks of incorrect conclusions."
   ]
  },
  {
   "cell_type": "markdown",
   "id": "eac5e201",
   "metadata": {},
   "source": [
    "## Question 3: Explain the significance level in hypothesis testing and its role in deciding the outcome of a test.\n",
    "\n",
    "**Answer:**\n",
    "The significance level, commonly denoted by alpha (\u0003b1), is a critical threshold in hypothesis testing that defines the probability of committing a Type I error\u00015a incorrectly rejecting a true null hypothesis. It represents the researcher\u00019s tolerance for false positives and sets the benchmark for determining whether the observed data provide sufficient evidence against the null hypothesis.\n",
    "\n",
    "Typically, \u0003b1 is set to 0.05, meaning that there is a 5% risk of rejecting the null hypothesis when it is actually true. Lower values of \u0003b1, such as 0.01, imply more stringent criteria for rejecting H0, reducing the chance of Type I errors but increasing the risk of Type II errors (failing to reject a false null hypothesis).\n",
    "\n",
    "During hypothesis testing, the calculated p-value\u00015a probability measure of observing data as extreme or more extreme than the sample, assuming the null hypothesis is true\u00015a is compared against the significance level. If the p-value is less than or equal to \u0003b1, it indicates strong evidence against H0, prompting rejection of the null hypothesis. Conversely, if the p-value is greater, there is insufficient evidence to reject H0.\n",
    "\n",
    "The significance level determines the size of the rejection region in the distribution of the test statistic. It balances the need to detect true effects while avoiding erroneous conclusions. In practice, the choice of \u0003b1 depends on context; for example, medical trials often use a lower \u0003b1 to minimize risks to human health.\n",
    "\n",
    "In summary, the significance level is a fundamental parameter guiding hypothesis testing decisions by quantifying acceptable error rates and influencing interpretation of statistical results."
   ]
  },
  {
   "cell_type": "markdown",
   "id": "15a8b6f9",
   "metadata": {},
   "source": [
    "## Question 4: What are Type I and Type II errors? Give examples of each.\n",
    "\n",
    "**Answer:**\n",
    "In hypothesis testing, two types of errors can occur due to the probabilistic nature of decision-making based on sample data: Type I and Type II errors. These errors represent incorrect conclusions derived from statistical tests.\n",
    "\n",
    "A Type I error occurs when the null hypothesis (H0) is true, but it is incorrectly rejected. This is a false positive result\u00015a concluding that there is an effect or difference when there is none. The probability of making a Type I error is the significance level (\u0003b1) set by the researcher, commonly 0.05. For example, in a clinical trial, a Type I error would mean concluding that a new drug is effective when it actually is not, potentially leading to unsafe treatments.\n",
    "\n",
    "Conversely, a Type II error occurs when the null hypothesis is false, but it is not rejected. This is a false negative result\u00015a failing to detect a real effect or difference. The probability of a Type II error is denoted by \u0003b2. For instance, a Type II error in the same clinical trial would mean failing to identify that the new drug improves patient outcomes, possibly missing a beneficial treatment opportunity.\n",
    "\n",
    "The balance between Type I and Type II errors is a crucial aspect of test design. Reducing one type of error typically increases the other, so researchers must choose appropriate sample sizes and significance levels based on the study\u00019s goals and consequences of errors.\n",
    "\n",
    "In summary, Type I and II errors represent the trade-offs inherent in hypothesis testing and reflect the risks of making incorrect inferences from data."
   ]
  },
  {
   "cell_type": "markdown",
   "id": "e18b738d",
   "metadata": {},
   "source": [
    "## Question 5: What is the difference between a Z-test and a T-test? Explain when to use each.\n",
    "\n",
    "**Answer:**\n",
    "Z-test and T-test are both inferential statistical tests used to examine hypotheses about population means, but they differ in assumptions and contexts of application.\n",
    "\n",
    "A Z-test is used when the population variance is known and the sample size is large (usually n > 30). It relies on the standard normal distribution to compute probabilities. The Z-test calculates the Z-statistic by standardizing the sample mean using the known population standard deviation. It is commonly applied in quality control and large-sample surveys where population parameters are well-established.\n",
    "\n",
    "In contrast, a T-test is used when the population variance is unknown and must be estimated from the sample, or when the sample size is small (n \u00061 30). It uses the Student\u00019s t-distribution, which accounts for the additional uncertainty from estimating the variance. There are different types of T-tests\u00015a one-sample, independent two-sample, and paired sample\u00015a each suited for specific experimental designs.\n",
    "\n",
    "Choosing between the tests depends on the availability of population parameters and sample size. When population standard deviation is unknown or samples are small, the T-test provides more reliable results due to its heavier-tailed distribution, which leads to wider confidence intervals.\n",
    "\n",
    "In practical terms, if sample data are sufficiently large, a Z-test approximation might be used regardless of variance knowledge. However, the T-test remains preferred for small samples and unknown variances to avoid underestimating variability and making misleading inferences."
   ]
  },
  {
   "cell_type": "markdown",
   "id": "7fa323c0",
   "metadata": {},
   "source": [
    "## Question 6: Write a Python program to generate a binomial distribution with n=10 and p=0.5, then plot its histogram."
   ]
  },
  {
   "cell_type": "code",
   "execution_count": 1,
   "id": "ff2b705e",
   "metadata": {},
   "outputs": [
    {
     "data": {
      "image/png": "[encoded data removed]",
      "text/plain": [
       "<Figure size 640x480 with 1 Axes>"
      ]
     },
     "metadata": {},
     "output_type": "display_data"
    }
   ],
   "source": [
    "import numpy as np\n",
    "import matplotlib.pyplot as plt\n",
    "\n",
    "n = 10\n",
    "p = 0.5\n",
    "binomial_data = np.random.binomial(n, p, 1000)\n",
    "\n",
    "plt.hist(binomial_data, bins=np.arange(n+2)-0.5, edgecolor='black')\n",
    "plt.title('Binomial Distribution Histogram (n=10, p=0.5)')\n",
    "plt.xlabel('Number of Successes')\n",
    "plt.ylabel('Frequency')\n",
    "plt.grid(axis='y')\n",
    "plt.show()"
   ]
  },
  {
   "cell_type": "markdown",
   "id": "ee23fc7f",
   "metadata": {},
   "source": [
    "## Question 7: Implement hypothesis testing using Z-statistics for a sample dataset in Python."
   ]
  },
  {
   "cell_type": "markdown",
   "id": "75c0afba",
   "metadata": {},
   "source": [
    "```\n",
    "import numpy as np\n",
    "from scipy.stats import norm\n",
    "\n",
    "sample_data = [49.1, 50.2, 51.0, 48.7, 50.5, 49.8, 50.3, 50.7, 50.2, 49.6, \n",
    "               50.1, 49.9, 50.8, 50.4, 48.9, 50.6, 50.0, 49.7, 50.2, 49.5, \n",
    "               50.1, 50.3, 50.4, 50.5, 50.0, 50.7, 49.3, 49.8, 50.2, 50.9, \n",
    "               50.3, 50.4, 50.0, 49.7, 50.5, 49.9]\n",
    "\n",
    "sample_mean = np.mean(sample_data)\n",
    "sample_std = np.std(sample_data, ddof=1)\n",
    "sample_size = len(sample_data)\n",
    "\n",
    "population_mean = 50  # Null hypothesis mean\n",
    "\n",
    "z_stat = (sample_mean - population_mean) / (sample_std / np.sqrt(sample_size))\n",
    "p_value = 2 * (1 - norm.cdf(abs(z_stat)))\n",
    "\n",
    "print(f\"Z-statistic: {z_stat:.3f}\")\n",
    "print(f\"P-value: {p_value:.3f}\")\n",
    "```\n",
    "\n",
    "Output:\n",
    "-----------------------------------------------------------------------------------------\n",
    "\n",
    "Z-statistic: 0.994\n",
    "P-value: 0.320\n",
    "-----------------------------------------------------------------------------------------"
   ]
  },
  {
   "cell_type": "markdown",
   "id": "2e1152a5",
   "metadata": {},
   "source": [
    "## Question 8: Write a Python script to simulate data from a normal distribution and calculate the 95% confidence interval for its mean. Plot the data."
   ]
  },
  {
   "cell_type": "markdown",
   "id": "2218d15f",
   "metadata": {},
   "source": [
    "```\n",
    "import numpy as np\n",
    "import matplotlib.pyplot as plt\n",
    "\n",
    "np.random.seed(0)\n",
    "data = np.random.normal(loc=0, scale=1, size=100)\n",
    "\n",
    "mean = np.mean(data)\n",
    "std_err = np.std(data, ddof=1) / np.sqrt(len(data))\n",
    "\n",
    "ci_lower = mean - 1.96 * std_err\n",
    "ci_upper = mean + 1.96 * std_err\n",
    "\n",
    "print(f\"95% Confidence Interval: ({ci_lower:.3f}, {ci_upper:.3f})\")\n",
    "\n",
    "plt.hist(data, bins=20, edgecolor='black')\n",
    "plt.title('Histogram of Simulated Normal Distribution Data')\n",
    "plt.xlabel('Value')\n",
    "plt.ylabel('Frequency')\n",
    "plt.grid(axis='y')\n",
    "plt.show()\n",
    "```\n",
    "\n",
    "Output:\n",
    "-----------------------------------------------------------------------------------------------------------\n",
    "Z-statistic: 0.994\n",
    "P-value: 0.320\n",
    "95% Confidence Interval: (-0.139, 0.258)\n",
    "-----------------------------------------------------------------------------------------------------------"
   ]
  },
  {
   "cell_type": "markdown",
   "id": "f926dd94",
   "metadata": {},
   "source": [
    "## Question 9: Write a Python function to calculate the Z-scores from a dataset and visualize the standardized data using a histogram. Explain what the Z-scores represent in terms of standard deviations from the mean."
   ]
  },
  {
   "cell_type": "markdown",
   "id": "516523a7",
   "metadata": {},
   "source": [
    "```import numpy as np\n",
    "import matplotlib.pyplot as plt\n",
    "\n",
    "def calculate_and_plot_zscores(data):\n",
    "    \"\"\"\n",
    "    Calculate Z-scores for a dataset and plot histogram of standardized data.\n",
    "    \n",
    "    Parameters:\n",
    "    data (list or array): Input dataset\n",
    "    \n",
    "    Returns:\n",
    "    z_scores (numpy array): Z-scores of the dataset\n",
    "    \"\"\"\n",
    "    # Convert data to numpy array\n",
    "    data = np.array(data)\n",
    "    \n",
    "    # Calculate mean and standard deviation\n",
    "    mean = np.mean(data)\n",
    "    std = np.std(data)\n",
    "    \n",
    "    # Calculate Z-scores\n",
    "    z_scores = (data - mean) / std\n",
    "    \n",
    "    # Plot histogram of Z-scores\n",
    "    plt.hist(z_scores, bins=10, edgecolor=\"black\", alpha=0.7)\n",
    "    plt.title(\"Histogram of Standardized Data (Z-scores)\")\n",
    "    plt.xlabel(\"Z-score\")\n",
    "    plt.ylabel(\"Frequency\")\n",
    "    plt.axvline(0, color=\"red\", linestyle=\"dashed\", linewidth=2, label=\"Mean (Z=0)\")\n",
    "    plt.legend()\n",
    "    plt.show()\n",
    "    \n",
    "    return z_scores\n",
    "\n",
    "# Example usage:\n",
    "data = [50, 52, 53, 47, 48, 49, 60, 62, 65, 70]\n",
    "z_scores = calculate_and_plot_zscores(data)\n",
    "print(\"Z-scores:\", z_scores)\n",
    "```\n",
    "\n",
    "Output:\n",
    "----------------------------------------------------------------------------------------------------------------------------\n",
    "Z-scores: [-0.73379939 -0.47172818 -0.34069257 -1.1269062  -0.99587059 -0.86483499\n",
    "  0.57655666  0.83862787  1.23173468  1.88691271]\n",
    "----------------------------------------------------------------------------------------------------------------------------\n",
    "\n",
    "1. What is a Z-score?\n",
    "\n",
    "A Z-score (or standard score) tells us how many standard deviations a data point is away from the mean of the dataset.\n",
    "\n",
    "If z = 0: The value is exactly the mean.\n",
    "\n",
    "If z = +1: The value is 1 standard deviation above the mean.\n",
    "\n",
    "If z = -2: The value is 2 standard deviations below the mean.\n",
    "\n",
    "2. Python Function to Calculate Z-scores\n",
    "\n",
    "We can use NumPy to calculate mean and standard deviation, then compute Z-scores.\n",
    "\n",
    "3. Interpretation of Z-scores\n",
    "\n",
    "If most data has Z between -2 and +2, it means they are within 2 standard deviations of the mean (typical for normal distributions).\n",
    "\n",
    "Large positive or negative Z-scores (e.g., |Z| > 3) often indicate outliers."
   ]
  }
 ],
 "metadata": {
  "kernelspec": {
   "display_name": "Python 3",
   "language": "python",
   "name": "python3"
  },
  "language_info": {
   "codemirror_mode": {
    "name": "ipython",
    "version": 3
   },
   "file_extension": ".py",
   "mimetype": "text/x-python",
   "name": "python",
   "nbconvert_exporter": "python",
   "pygments_lexer": "ipython3",
   "version": "3.13.5"
  }
 },
 "nbformat": 4,
 "nbformat_minor": 5
}
