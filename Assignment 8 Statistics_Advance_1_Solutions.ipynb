{
 "cells": [
  {
   "cell_type": "markdown",
   "id": "9b69dcef",
   "metadata": {},
   "source": [
    "### Question 1: What is a random variable in probability theory?"
   ]
  },
  {
   "cell_type": "markdown",
   "id": "d6a8d62f",
   "metadata": {},
   "source": [
    "**Answer:**  \n",
    "A random variable is a key concept in probability theory that numerically represents outcomes of random experiments. It assigns a real number to each outcome in a sample space. For example, in rolling a die, the random variable maps outcomes to numbers 1 to 6. There are two types: discrete (countable values) and continuous (any value in range).  They allow the use of operations like expectation and variance, essential for modeling and inference in statistics. Understanding random variables is foundational for advanced statistical methods like distributions and hypothesis testing."
   ]
  },
  {
   "cell_type": "markdown",
   "id": "94d5141f",
   "metadata": {},
   "source": [
    "### Question 2: What are the types of random variables?"
   ]
  },
  {
   "cell_type": "markdown",
   "id": "4f5f4a93",
   "metadata": {},
   "source": [
    "**Answer:**  \n",
    "Random variables are mainly divided into discrete and continuous types. Discrete random variables take countable, distinct values like number of heads in coin tosses or students in a class. Continuous random variables can assume any values within intervals, such as height or weight, modeled using probability density functions. The distinction is important for selecting correct probability distributions and analysis methods."
   ]
  },
  {
   "cell_type": "markdown",
   "id": "7c6c7bf6",
   "metadata": {},
   "source": [
    "### Question 3: Explain the difference between discrete and continuous distributions."
   ]
  },
  {
   "cell_type": "markdown",
   "id": "ba964c68",
   "metadata": {},
   "source": [
    "**Answer:**  \n",
    "Discrete and continuous distributions differ mainly in the values their variables can take. Discrete distributions represent countable outcomes such as the number of successes in trials, while continuous distributions represent infinite possible values within intervals, like height or time. Discrete distributions assign probabilities to exact values, while continuous distributions use densities over ranges. Examples of discrete distributions include binomial and Poisson; continuous examples are normal and exponential distributions."
   ]
  },
  {
   "cell_type": "markdown",
   "id": "a7d6e9ac",
   "metadata": {},
   "source": [
    "### Question 4: What is a binomial distribution, and how is it used in probability?"
   ]
  },
  {
   "cell_type": "markdown",
   "id": "96f07861",
   "metadata": {},
   "source": [
    "**Answer:**  \n",
    "The binomial distribution calculates the probability of getting a fixed number of successes in independent trials with two possible outcomes (success/failure). It’s widely used in quality control, surveys, and experimentation where outcomes fall into categories. Parameters are the number of trials and the success probability. This distribution helps analyze categorical data and make predictions through inferential statistics."
   ]
  },
  {
   "cell_type": "markdown",
   "id": "2d9c13d8",
   "metadata": {},
   "source": [
    "### Question 5: What is the standard normal distribution, and why is it important?"
   ]
  },
  {
   "cell_type": "markdown",
   "id": "03159446",
   "metadata": {},
   "source": [
    "**Answer:**  \n",
    "The standard normal distribution is a bell-shaped curve with mean zero and standard deviation one, representing the standardized normal variable. It’s important because it enables the comparison of scores from different normal distributions through z-scores. Many statistical tests rely on the assumption of normality explained by this distribution, making it foundational for hypothesis testing, confidence intervals, and quality control in diverse fields."
   ]
  },
  {
   "cell_type": "markdown",
   "id": "fabe4df0",
   "metadata": {},
   "source": [
    "### Question 6: What is the Central Limit Theorem (CLT), and why is it critical in statistics?"
   ]
  },
  {
   "cell_type": "markdown",
   "id": "21f654d9",
   "metadata": {},
   "source": [
    "**Answer:**  \n",
    "The Central Limit Theorem states that the sample mean distribution approaches normality as sample size grows, regardless of the original population's distribution. This theorem enables the use of normal-based inference techniques even when the data isn't perfectly normal, supporting confidence intervals and hypothesis testing. It is central to many practical statistical analyses in economics, biology, and social sciences."
   ]
  },
  {
   "cell_type": "markdown",
   "id": "4a851570",
   "metadata": {},
   "source": [
    "### Question 7: What is the significance of confidence intervals in statistical analysis?"
   ]
  },
  {
   "cell_type": "markdown",
   "id": "779c5892",
   "metadata": {},
   "source": [
    "**Answer:**  \n",
    "Confidence intervals provide a range for estimating population parameters with a chosen confidence level, often 95%. They express estimate precision and uncertainty associated with sampling variability, helping researchers make decisions beyond single-point estimates. Widely used in clinical research, polling, and quality control, they facilitate interpretation and decision-making by quantifying estimate reliability."
   ]
  },
  {
   "cell_type": "markdown",
   "id": "c4dfa0a1",
   "metadata": {},
   "source": [
    "### Question 8: What is the concept of expected value in a probability distribution?"
   ]
  },
  {
   "cell_type": "markdown",
   "id": "7cba2e81",
   "metadata": {},
   "source": [
    "**Answer:**  \n",
    "Expected value refers to the average outcome of a random variable weighted by the probabilities of values, representing central tendency in a probability distribution. It is crucial for decision-making in risk management, insurance, and finance, providing a long-run expectation in uncertain scenarios."
   ]
  },
  {
   "cell_type": "markdown",
   "id": "abc225f1",
   "metadata": {},
   "source": [
    "### Question 9: Write a Python program to generate 1000 random numbers from a normal distribution with mean = 50 and standard deviation = 5. Compute its mean and standard deviation using NumPy, and draw a histogram to visualize the distribution."
   ]
  },
  {
   "cell_type": "markdown",
   "id": "867772ed",
   "metadata": {},
   "source": [
    "```\n",
    "import numpy as np\n",
    "import matplotlib.pyplot as plt\n",
    "data = np.random.normal(50, 5, 1000)\n",
    "mean = np.mean(data)\n",
    "std = np.std(data)blob:vscode-webview://1p1j9esln0tp6b9s7m48tfni4v77ibliteiouitecgmervtsr7q3/93a43791-7834-49ee-9a62-0ce4c29599fe\n",
    "print('Mean:', mean)\n",
    "print('Std:', std)\n",
    "plt.hist(data, bins=30, alpha=0.7, color='blue')\n",
    "plt.title('Histogram of Normal Distribution')\n",
    "plt.show()\n",
    "```\n",
    "Output:\n",
    "----------------------------------------------------------------------------------------------------------------------------------\n",
    "\n",
    "Mean: 49.920473005363064\n",
    "\n",
    "Std: 5.046439466970164"
   ]
  },
  {
   "cell_type": "markdown",
   "id": "cbd863e4",
   "metadata": {},
   "source": [
    "### Question 10: You are working as a data analyst for a retail company. The company has collected daily sales data for 2 years and wants you to identify the overall sales trend.\n",
    "\n",
    "daily_sales = [220, 245, 210, 265, 230, 250, 260, 275, 240, 255, \n",
    "               235, 260, 245, 250, 225, 270, 265, 255, 250, 260]\n",
    "\n",
    "Explain how you would apply the Central Limit Theorem to estimate the average sales with a 95% confidence interval.\n",
    "Write the Python code to compute the mean sales and its confidence interval."
   ]
  },
  {
   "cell_type": "markdown",
   "id": "8853bb48",
   "metadata": {},
   "source": [
    "Explanation: The Central Limit Theorem allows us to assume the distribution of sample means is approximately normal for large samples. Using this, we calculate a 95% confidence interval for average sales from sample mean, standard deviation, and size.\n",
    "\n",
    "Python code:\n",
    "```\n",
    "import numpy as np\n",
    "from scipy import stats\n",
    "daily_sales = [220, 245, 210, 265, 230, 250, 260, 275, 240, 255, 235, 260, 245, 250, 225, 270, 265, 255, 250, 260]\n",
    "sample_mean = np.mean(daily_sales)\n",
    "sample_std = np.std(daily_sales, ddof=1)\n",
    "sample_size = len(daily_sales)\n",
    "confidence_level = 0.95\n",
    "alpha = 1-confidence_level\n",
    "t_critical = stats.t.ppf(1 - alpha/2, df=sample_size-1)\n",
    "margin = t_critical * (sample_std / sample_size**0.5)\n",
    "confidence_interval = (sample_mean - margin, sample_mean + margin)\n",
    "print('Mean Sales:', sample_mean)\n",
    "print('95% CI:', confidence_interval)\n",
    "```\n",
    "\n",
    "Output:\n",
    "-----------------------------------------------------------------------------------------------------------------------------------------------------------\n",
    "Mean Sales: 248.25\n",
    "\n",
    "95% CI: (np.float64(240.16957025147158), np.float64(256.3304297485284))"
   ]
  }
 ],
 "metadata": {
  "kernelspec": {
   "display_name": "Python 3",
   "language": "python",
   "name": "python3"
  },
  "language_info": {
   "codemirror_mode": {
    "name": "ipython",
    "version": 3
   },
   "file_extension": ".py",
   "mimetype": "text/x-python",
   "name": "python",
   "nbconvert_exporter": "python",
   "pygments_lexer": "ipython3",
   "version": "3.13.5"
  }
 },
 "nbformat": 4,
 "nbformat_minor": 5
}
